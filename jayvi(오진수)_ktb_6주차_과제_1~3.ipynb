{
  "metadata": {
    "kernelspec": {
      "language": "python",
      "display_name": "Python 3",
      "name": "python3"
    },
    "language_info": {
      "name": "python",
      "version": "3.11.13",
      "mimetype": "text/x-python",
      "codemirror_mode": {
        "name": "ipython",
        "version": 3
      },
      "pygments_lexer": "ipython3",
      "nbconvert_exporter": "python",
      "file_extension": ".py"
    },
    "kaggle": {
      "accelerator": "none",
      "dataSources": [
        {
          "sourceId": 12900544,
          "sourceType": "datasetVersion",
          "datasetId": 8162411
        }
      ],
      "dockerImageVersionId": 31153,
      "isInternetEnabled": true,
      "language": "python",
      "sourceType": "notebook",
      "isGpuEnabled": false
    },
    "colab": {
      "name": "jayvi(오진수)_ktb 6주차 과제 1~3",
      "provenance": [],
      "include_colab_link": true
    }
  },
  "nbformat_minor": 0,
  "nbformat": 4,
  "cells": [
    {
      "cell_type": "markdown",
      "metadata": {
        "id": "view-in-github",
        "colab_type": "text"
      },
      "source": [
        "<a href=\"https://colab.research.google.com/github/OhJin-Soo/ktb_ai/blob/main/jayvi(%EC%98%A4%EC%A7%84%EC%88%98)_ktb_6%EC%A3%BC%EC%B0%A8_%EA%B3%BC%EC%A0%9C_1~3.ipynb\" target=\"_parent\"><img src=\"https://colab.research.google.com/assets/colab-badge.svg\" alt=\"Open In Colab\"/></a>"
      ]
    },
    {
      "source": [
        "# IMPORTANT: RUN THIS CELL IN ORDER TO IMPORT YOUR KAGGLE DATA SOURCES,\n",
        "# THEN FEEL FREE TO DELETE THIS CELL.\n",
        "# NOTE: THIS NOTEBOOK ENVIRONMENT DIFFERS FROM KAGGLE'S PYTHON\n",
        "# ENVIRONMENT SO THERE MAY BE MISSING LIBRARIES USED BY YOUR\n",
        "# NOTEBOOK.\n",
        "import kagglehub\n",
        "nabihazahid_spotify_dataset_for_churn_analysis_path = kagglehub.dataset_download('nabihazahid/spotify-dataset-for-churn-analysis')\n",
        "\n",
        "print('Data source import complete.')\n"
      ],
      "metadata": {
        "colab": {
          "base_uri": "https://localhost:8080/"
        },
        "id": "4-vLr3WOUGKg",
        "outputId": "a3c4d0c3-1aa1-4a00-a089-f0dc06897731"
      },
      "cell_type": "code",
      "outputs": [
        {
          "output_type": "stream",
          "name": "stdout",
          "text": [
            "Using Colab cache for faster access to the 'spotify-dataset-for-churn-analysis' dataset.\n",
            "Data source import complete.\n"
          ]
        }
      ],
      "execution_count": 57
    },
    {
      "cell_type": "code",
      "source": [
        "import pandas as pd\n",
        "import numpy as np"
      ],
      "metadata": {
        "trusted": true,
        "execution": {
          "iopub.status.busy": "2025-10-18T07:27:52.475227Z",
          "iopub.execute_input": "2025-10-18T07:27:52.476029Z",
          "iopub.status.idle": "2025-10-18T07:27:52.481009Z",
          "shell.execute_reply.started": "2025-10-18T07:27:52.475988Z",
          "shell.execute_reply": "2025-10-18T07:27:52.479971Z"
        },
        "id": "f978f-yfUGKh"
      },
      "outputs": [],
      "execution_count": 58
    },
    {
      "cell_type": "markdown",
      "source": [
        "## EDA"
      ],
      "metadata": {
        "id": "9XtcMrjkUGKh"
      }
    },
    {
      "cell_type": "code",
      "source": [
        "df = pd.read_csv(\"/kaggle/input/spotify-dataset-for-churn-analysis/spotify_churn_dataset.csv\")\n",
        "df.head(5)"
      ],
      "metadata": {
        "trusted": true,
        "execution": {
          "iopub.status.busy": "2025-10-18T07:27:53.156164Z",
          "iopub.execute_input": "2025-10-18T07:27:53.156535Z",
          "iopub.status.idle": "2025-10-18T07:27:53.188837Z",
          "shell.execute_reply.started": "2025-10-18T07:27:53.156501Z",
          "shell.execute_reply": "2025-10-18T07:27:53.187842Z"
        },
        "colab": {
          "base_uri": "https://localhost:8080/",
          "height": 226
        },
        "id": "UOEWJPtNUGKi",
        "outputId": "ff7fe359-91d6-4b51-d6c3-658b7fd4673d"
      },
      "outputs": [
        {
          "output_type": "execute_result",
          "data": {
            "text/plain": [
              "   user_id  gender  age country subscription_type  listening_time  \\\n",
              "0        1  Female   54      CA              Free              26   \n",
              "1        2   Other   33      DE            Family             141   \n",
              "2        3    Male   38      AU           Premium             199   \n",
              "3        4  Female   22      CA           Student              36   \n",
              "4        5   Other   29      US            Family             250   \n",
              "\n",
              "   songs_played_per_day  skip_rate device_type  ads_listened_per_week  \\\n",
              "0                    23       0.20     Desktop                     31   \n",
              "1                    62       0.34         Web                      0   \n",
              "2                    38       0.04      Mobile                      0   \n",
              "3                     2       0.31      Mobile                      0   \n",
              "4                    57       0.36      Mobile                      0   \n",
              "\n",
              "   offline_listening  is_churned  \n",
              "0                  0           1  \n",
              "1                  1           0  \n",
              "2                  1           1  \n",
              "3                  1           0  \n",
              "4                  1           1  "
            ],
            "text/html": [
              "\n",
              "  <div id=\"df-5ad2accd-c8c1-49fd-a3b8-defbfdf4eddb\" class=\"colab-df-container\">\n",
              "    <div>\n",
              "<style scoped>\n",
              "    .dataframe tbody tr th:only-of-type {\n",
              "        vertical-align: middle;\n",
              "    }\n",
              "\n",
              "    .dataframe tbody tr th {\n",
              "        vertical-align: top;\n",
              "    }\n",
              "\n",
              "    .dataframe thead th {\n",
              "        text-align: right;\n",
              "    }\n",
              "</style>\n",
              "<table border=\"1\" class=\"dataframe\">\n",
              "  <thead>\n",
              "    <tr style=\"text-align: right;\">\n",
              "      <th></th>\n",
              "      <th>user_id</th>\n",
              "      <th>gender</th>\n",
              "      <th>age</th>\n",
              "      <th>country</th>\n",
              "      <th>subscription_type</th>\n",
              "      <th>listening_time</th>\n",
              "      <th>songs_played_per_day</th>\n",
              "      <th>skip_rate</th>\n",
              "      <th>device_type</th>\n",
              "      <th>ads_listened_per_week</th>\n",
              "      <th>offline_listening</th>\n",
              "      <th>is_churned</th>\n",
              "    </tr>\n",
              "  </thead>\n",
              "  <tbody>\n",
              "    <tr>\n",
              "      <th>0</th>\n",
              "      <td>1</td>\n",
              "      <td>Female</td>\n",
              "      <td>54</td>\n",
              "      <td>CA</td>\n",
              "      <td>Free</td>\n",
              "      <td>26</td>\n",
              "      <td>23</td>\n",
              "      <td>0.20</td>\n",
              "      <td>Desktop</td>\n",
              "      <td>31</td>\n",
              "      <td>0</td>\n",
              "      <td>1</td>\n",
              "    </tr>\n",
              "    <tr>\n",
              "      <th>1</th>\n",
              "      <td>2</td>\n",
              "      <td>Other</td>\n",
              "      <td>33</td>\n",
              "      <td>DE</td>\n",
              "      <td>Family</td>\n",
              "      <td>141</td>\n",
              "      <td>62</td>\n",
              "      <td>0.34</td>\n",
              "      <td>Web</td>\n",
              "      <td>0</td>\n",
              "      <td>1</td>\n",
              "      <td>0</td>\n",
              "    </tr>\n",
              "    <tr>\n",
              "      <th>2</th>\n",
              "      <td>3</td>\n",
              "      <td>Male</td>\n",
              "      <td>38</td>\n",
              "      <td>AU</td>\n",
              "      <td>Premium</td>\n",
              "      <td>199</td>\n",
              "      <td>38</td>\n",
              "      <td>0.04</td>\n",
              "      <td>Mobile</td>\n",
              "      <td>0</td>\n",
              "      <td>1</td>\n",
              "      <td>1</td>\n",
              "    </tr>\n",
              "    <tr>\n",
              "      <th>3</th>\n",
              "      <td>4</td>\n",
              "      <td>Female</td>\n",
              "      <td>22</td>\n",
              "      <td>CA</td>\n",
              "      <td>Student</td>\n",
              "      <td>36</td>\n",
              "      <td>2</td>\n",
              "      <td>0.31</td>\n",
              "      <td>Mobile</td>\n",
              "      <td>0</td>\n",
              "      <td>1</td>\n",
              "      <td>0</td>\n",
              "    </tr>\n",
              "    <tr>\n",
              "      <th>4</th>\n",
              "      <td>5</td>\n",
              "      <td>Other</td>\n",
              "      <td>29</td>\n",
              "      <td>US</td>\n",
              "      <td>Family</td>\n",
              "      <td>250</td>\n",
              "      <td>57</td>\n",
              "      <td>0.36</td>\n",
              "      <td>Mobile</td>\n",
              "      <td>0</td>\n",
              "      <td>1</td>\n",
              "      <td>1</td>\n",
              "    </tr>\n",
              "  </tbody>\n",
              "</table>\n",
              "</div>\n",
              "    <div class=\"colab-df-buttons\">\n",
              "\n",
              "  <div class=\"colab-df-container\">\n",
              "    <button class=\"colab-df-convert\" onclick=\"convertToInteractive('df-5ad2accd-c8c1-49fd-a3b8-defbfdf4eddb')\"\n",
              "            title=\"Convert this dataframe to an interactive table.\"\n",
              "            style=\"display:none;\">\n",
              "\n",
              "  <svg xmlns=\"http://www.w3.org/2000/svg\" height=\"24px\" viewBox=\"0 -960 960 960\">\n",
              "    <path d=\"M120-120v-720h720v720H120Zm60-500h600v-160H180v160Zm220 220h160v-160H400v160Zm0 220h160v-160H400v160ZM180-400h160v-160H180v160Zm440 0h160v-160H620v160ZM180-180h160v-160H180v160Zm440 0h160v-160H620v160Z\"/>\n",
              "  </svg>\n",
              "    </button>\n",
              "\n",
              "  <style>\n",
              "    .colab-df-container {\n",
              "      display:flex;\n",
              "      gap: 12px;\n",
              "    }\n",
              "\n",
              "    .colab-df-convert {\n",
              "      background-color: #E8F0FE;\n",
              "      border: none;\n",
              "      border-radius: 50%;\n",
              "      cursor: pointer;\n",
              "      display: none;\n",
              "      fill: #1967D2;\n",
              "      height: 32px;\n",
              "      padding: 0 0 0 0;\n",
              "      width: 32px;\n",
              "    }\n",
              "\n",
              "    .colab-df-convert:hover {\n",
              "      background-color: #E2EBFA;\n",
              "      box-shadow: 0px 1px 2px rgba(60, 64, 67, 0.3), 0px 1px 3px 1px rgba(60, 64, 67, 0.15);\n",
              "      fill: #174EA6;\n",
              "    }\n",
              "\n",
              "    .colab-df-buttons div {\n",
              "      margin-bottom: 4px;\n",
              "    }\n",
              "\n",
              "    [theme=dark] .colab-df-convert {\n",
              "      background-color: #3B4455;\n",
              "      fill: #D2E3FC;\n",
              "    }\n",
              "\n",
              "    [theme=dark] .colab-df-convert:hover {\n",
              "      background-color: #434B5C;\n",
              "      box-shadow: 0px 1px 3px 1px rgba(0, 0, 0, 0.15);\n",
              "      filter: drop-shadow(0px 1px 2px rgba(0, 0, 0, 0.3));\n",
              "      fill: #FFFFFF;\n",
              "    }\n",
              "  </style>\n",
              "\n",
              "    <script>\n",
              "      const buttonEl =\n",
              "        document.querySelector('#df-5ad2accd-c8c1-49fd-a3b8-defbfdf4eddb button.colab-df-convert');\n",
              "      buttonEl.style.display =\n",
              "        google.colab.kernel.accessAllowed ? 'block' : 'none';\n",
              "\n",
              "      async function convertToInteractive(key) {\n",
              "        const element = document.querySelector('#df-5ad2accd-c8c1-49fd-a3b8-defbfdf4eddb');\n",
              "        const dataTable =\n",
              "          await google.colab.kernel.invokeFunction('convertToInteractive',\n",
              "                                                    [key], {});\n",
              "        if (!dataTable) return;\n",
              "\n",
              "        const docLinkHtml = 'Like what you see? Visit the ' +\n",
              "          '<a target=\"_blank\" href=https://colab.research.google.com/notebooks/data_table.ipynb>data table notebook</a>'\n",
              "          + ' to learn more about interactive tables.';\n",
              "        element.innerHTML = '';\n",
              "        dataTable['output_type'] = 'display_data';\n",
              "        await google.colab.output.renderOutput(dataTable, element);\n",
              "        const docLink = document.createElement('div');\n",
              "        docLink.innerHTML = docLinkHtml;\n",
              "        element.appendChild(docLink);\n",
              "      }\n",
              "    </script>\n",
              "  </div>\n",
              "\n",
              "\n",
              "    <div id=\"df-b23a7534-3360-4863-aa3d-39db9223b2b2\">\n",
              "      <button class=\"colab-df-quickchart\" onclick=\"quickchart('df-b23a7534-3360-4863-aa3d-39db9223b2b2')\"\n",
              "                title=\"Suggest charts\"\n",
              "                style=\"display:none;\">\n",
              "\n",
              "<svg xmlns=\"http://www.w3.org/2000/svg\" height=\"24px\"viewBox=\"0 0 24 24\"\n",
              "     width=\"24px\">\n",
              "    <g>\n",
              "        <path d=\"M19 3H5c-1.1 0-2 .9-2 2v14c0 1.1.9 2 2 2h14c1.1 0 2-.9 2-2V5c0-1.1-.9-2-2-2zM9 17H7v-7h2v7zm4 0h-2V7h2v10zm4 0h-2v-4h2v4z\"/>\n",
              "    </g>\n",
              "</svg>\n",
              "      </button>\n",
              "\n",
              "<style>\n",
              "  .colab-df-quickchart {\n",
              "      --bg-color: #E8F0FE;\n",
              "      --fill-color: #1967D2;\n",
              "      --hover-bg-color: #E2EBFA;\n",
              "      --hover-fill-color: #174EA6;\n",
              "      --disabled-fill-color: #AAA;\n",
              "      --disabled-bg-color: #DDD;\n",
              "  }\n",
              "\n",
              "  [theme=dark] .colab-df-quickchart {\n",
              "      --bg-color: #3B4455;\n",
              "      --fill-color: #D2E3FC;\n",
              "      --hover-bg-color: #434B5C;\n",
              "      --hover-fill-color: #FFFFFF;\n",
              "      --disabled-bg-color: #3B4455;\n",
              "      --disabled-fill-color: #666;\n",
              "  }\n",
              "\n",
              "  .colab-df-quickchart {\n",
              "    background-color: var(--bg-color);\n",
              "    border: none;\n",
              "    border-radius: 50%;\n",
              "    cursor: pointer;\n",
              "    display: none;\n",
              "    fill: var(--fill-color);\n",
              "    height: 32px;\n",
              "    padding: 0;\n",
              "    width: 32px;\n",
              "  }\n",
              "\n",
              "  .colab-df-quickchart:hover {\n",
              "    background-color: var(--hover-bg-color);\n",
              "    box-shadow: 0 1px 2px rgba(60, 64, 67, 0.3), 0 1px 3px 1px rgba(60, 64, 67, 0.15);\n",
              "    fill: var(--button-hover-fill-color);\n",
              "  }\n",
              "\n",
              "  .colab-df-quickchart-complete:disabled,\n",
              "  .colab-df-quickchart-complete:disabled:hover {\n",
              "    background-color: var(--disabled-bg-color);\n",
              "    fill: var(--disabled-fill-color);\n",
              "    box-shadow: none;\n",
              "  }\n",
              "\n",
              "  .colab-df-spinner {\n",
              "    border: 2px solid var(--fill-color);\n",
              "    border-color: transparent;\n",
              "    border-bottom-color: var(--fill-color);\n",
              "    animation:\n",
              "      spin 1s steps(1) infinite;\n",
              "  }\n",
              "\n",
              "  @keyframes spin {\n",
              "    0% {\n",
              "      border-color: transparent;\n",
              "      border-bottom-color: var(--fill-color);\n",
              "      border-left-color: var(--fill-color);\n",
              "    }\n",
              "    20% {\n",
              "      border-color: transparent;\n",
              "      border-left-color: var(--fill-color);\n",
              "      border-top-color: var(--fill-color);\n",
              "    }\n",
              "    30% {\n",
              "      border-color: transparent;\n",
              "      border-left-color: var(--fill-color);\n",
              "      border-top-color: var(--fill-color);\n",
              "      border-right-color: var(--fill-color);\n",
              "    }\n",
              "    40% {\n",
              "      border-color: transparent;\n",
              "      border-right-color: var(--fill-color);\n",
              "      border-top-color: var(--fill-color);\n",
              "    }\n",
              "    60% {\n",
              "      border-color: transparent;\n",
              "      border-right-color: var(--fill-color);\n",
              "    }\n",
              "    80% {\n",
              "      border-color: transparent;\n",
              "      border-right-color: var(--fill-color);\n",
              "      border-bottom-color: var(--fill-color);\n",
              "    }\n",
              "    90% {\n",
              "      border-color: transparent;\n",
              "      border-bottom-color: var(--fill-color);\n",
              "    }\n",
              "  }\n",
              "</style>\n",
              "\n",
              "      <script>\n",
              "        async function quickchart(key) {\n",
              "          const quickchartButtonEl =\n",
              "            document.querySelector('#' + key + ' button');\n",
              "          quickchartButtonEl.disabled = true;  // To prevent multiple clicks.\n",
              "          quickchartButtonEl.classList.add('colab-df-spinner');\n",
              "          try {\n",
              "            const charts = await google.colab.kernel.invokeFunction(\n",
              "                'suggestCharts', [key], {});\n",
              "          } catch (error) {\n",
              "            console.error('Error during call to suggestCharts:', error);\n",
              "          }\n",
              "          quickchartButtonEl.classList.remove('colab-df-spinner');\n",
              "          quickchartButtonEl.classList.add('colab-df-quickchart-complete');\n",
              "        }\n",
              "        (() => {\n",
              "          let quickchartButtonEl =\n",
              "            document.querySelector('#df-b23a7534-3360-4863-aa3d-39db9223b2b2 button');\n",
              "          quickchartButtonEl.style.display =\n",
              "            google.colab.kernel.accessAllowed ? 'block' : 'none';\n",
              "        })();\n",
              "      </script>\n",
              "    </div>\n",
              "\n",
              "    </div>\n",
              "  </div>\n"
            ],
            "application/vnd.google.colaboratory.intrinsic+json": {
              "type": "dataframe",
              "variable_name": "df",
              "summary": "{\n  \"name\": \"df\",\n  \"rows\": 8000,\n  \"fields\": [\n    {\n      \"column\": \"user_id\",\n      \"properties\": {\n        \"dtype\": \"number\",\n        \"std\": 2309,\n        \"min\": 1,\n        \"max\": 8000,\n        \"num_unique_values\": 8000,\n        \"samples\": [\n          2216,\n          2583,\n          1663\n        ],\n        \"semantic_type\": \"\",\n        \"description\": \"\"\n      }\n    },\n    {\n      \"column\": \"gender\",\n      \"properties\": {\n        \"dtype\": \"category\",\n        \"num_unique_values\": 3,\n        \"samples\": [\n          \"Female\",\n          \"Other\",\n          \"Male\"\n        ],\n        \"semantic_type\": \"\",\n        \"description\": \"\"\n      }\n    },\n    {\n      \"column\": \"age\",\n      \"properties\": {\n        \"dtype\": \"number\",\n        \"std\": 12,\n        \"min\": 16,\n        \"max\": 59,\n        \"num_unique_values\": 44,\n        \"samples\": [\n          52,\n          42,\n          51\n        ],\n        \"semantic_type\": \"\",\n        \"description\": \"\"\n      }\n    },\n    {\n      \"column\": \"country\",\n      \"properties\": {\n        \"dtype\": \"category\",\n        \"num_unique_values\": 8,\n        \"samples\": [\n          \"DE\",\n          \"IN\",\n          \"CA\"\n        ],\n        \"semantic_type\": \"\",\n        \"description\": \"\"\n      }\n    },\n    {\n      \"column\": \"subscription_type\",\n      \"properties\": {\n        \"dtype\": \"category\",\n        \"num_unique_values\": 4,\n        \"samples\": [\n          \"Family\",\n          \"Student\",\n          \"Free\"\n        ],\n        \"semantic_type\": \"\",\n        \"description\": \"\"\n      }\n    },\n    {\n      \"column\": \"listening_time\",\n      \"properties\": {\n        \"dtype\": \"number\",\n        \"std\": 84,\n        \"min\": 10,\n        \"max\": 299,\n        \"num_unique_values\": 290,\n        \"samples\": [\n          215,\n          154,\n          124\n        ],\n        \"semantic_type\": \"\",\n        \"description\": \"\"\n      }\n    },\n    {\n      \"column\": \"songs_played_per_day\",\n      \"properties\": {\n        \"dtype\": \"number\",\n        \"std\": 28,\n        \"min\": 1,\n        \"max\": 99,\n        \"num_unique_values\": 99,\n        \"samples\": [\n          36,\n          3,\n          64\n        ],\n        \"semantic_type\": \"\",\n        \"description\": \"\"\n      }\n    },\n    {\n      \"column\": \"skip_rate\",\n      \"properties\": {\n        \"dtype\": \"number\",\n        \"std\": 0.17359414048132843,\n        \"min\": 0.0,\n        \"max\": 0.6,\n        \"num_unique_values\": 61,\n        \"samples\": [\n          0.2,\n          0.46,\n          0.37\n        ],\n        \"semantic_type\": \"\",\n        \"description\": \"\"\n      }\n    },\n    {\n      \"column\": \"device_type\",\n      \"properties\": {\n        \"dtype\": \"category\",\n        \"num_unique_values\": 3,\n        \"samples\": [\n          \"Desktop\",\n          \"Web\",\n          \"Mobile\"\n        ],\n        \"semantic_type\": \"\",\n        \"description\": \"\"\n      }\n    },\n    {\n      \"column\": \"ads_listened_per_week\",\n      \"properties\": {\n        \"dtype\": \"number\",\n        \"std\": 13,\n        \"min\": 0,\n        \"max\": 49,\n        \"num_unique_values\": 46,\n        \"samples\": [\n          41,\n          36,\n          27\n        ],\n        \"semantic_type\": \"\",\n        \"description\": \"\"\n      }\n    },\n    {\n      \"column\": \"offline_listening\",\n      \"properties\": {\n        \"dtype\": \"number\",\n        \"std\": 0,\n        \"min\": 0,\n        \"max\": 1,\n        \"num_unique_values\": 2,\n        \"samples\": [\n          1,\n          0\n        ],\n        \"semantic_type\": \"\",\n        \"description\": \"\"\n      }\n    },\n    {\n      \"column\": \"is_churned\",\n      \"properties\": {\n        \"dtype\": \"number\",\n        \"std\": 0,\n        \"min\": 0,\n        \"max\": 1,\n        \"num_unique_values\": 2,\n        \"samples\": [\n          0,\n          1\n        ],\n        \"semantic_type\": \"\",\n        \"description\": \"\"\n      }\n    }\n  ]\n}"
            }
          },
          "metadata": {},
          "execution_count": 59
        }
      ],
      "execution_count": 59
    },
    {
      "cell_type": "code",
      "source": [
        "df[\"is_churned\"].value_counts()"
      ],
      "metadata": {
        "trusted": true,
        "execution": {
          "iopub.status.busy": "2025-10-18T07:28:11.256824Z",
          "iopub.execute_input": "2025-10-18T07:28:11.257137Z",
          "iopub.status.idle": "2025-10-18T07:28:11.264959Z",
          "shell.execute_reply.started": "2025-10-18T07:28:11.257115Z",
          "shell.execute_reply": "2025-10-18T07:28:11.263993Z"
        },
        "colab": {
          "base_uri": "https://localhost:8080/",
          "height": 178
        },
        "id": "tZXdHEz6UGKi",
        "outputId": "ca0deb03-b970-44ce-fc56-5b2f68c56f9c"
      },
      "outputs": [
        {
          "output_type": "execute_result",
          "data": {
            "text/plain": [
              "is_churned\n",
              "0    5929\n",
              "1    2071\n",
              "Name: count, dtype: int64"
            ],
            "text/html": [
              "<div>\n",
              "<style scoped>\n",
              "    .dataframe tbody tr th:only-of-type {\n",
              "        vertical-align: middle;\n",
              "    }\n",
              "\n",
              "    .dataframe tbody tr th {\n",
              "        vertical-align: top;\n",
              "    }\n",
              "\n",
              "    .dataframe thead th {\n",
              "        text-align: right;\n",
              "    }\n",
              "</style>\n",
              "<table border=\"1\" class=\"dataframe\">\n",
              "  <thead>\n",
              "    <tr style=\"text-align: right;\">\n",
              "      <th></th>\n",
              "      <th>count</th>\n",
              "    </tr>\n",
              "    <tr>\n",
              "      <th>is_churned</th>\n",
              "      <th></th>\n",
              "    </tr>\n",
              "  </thead>\n",
              "  <tbody>\n",
              "    <tr>\n",
              "      <th>0</th>\n",
              "      <td>5929</td>\n",
              "    </tr>\n",
              "    <tr>\n",
              "      <th>1</th>\n",
              "      <td>2071</td>\n",
              "    </tr>\n",
              "  </tbody>\n",
              "</table>\n",
              "</div><br><label><b>dtype:</b> int64</label>"
            ]
          },
          "metadata": {},
          "execution_count": 60
        }
      ],
      "execution_count": 60
    },
    {
      "cell_type": "code",
      "source": [
        "df_new = df.drop([\"user_id\"], axis=1)\n",
        "df_new.head(5)"
      ],
      "metadata": {
        "trusted": true,
        "execution": {
          "iopub.status.busy": "2025-10-18T07:28:11.420415Z",
          "iopub.execute_input": "2025-10-18T07:28:11.42143Z",
          "iopub.status.idle": "2025-10-18T07:28:11.435514Z",
          "shell.execute_reply.started": "2025-10-18T07:28:11.421396Z",
          "shell.execute_reply": "2025-10-18T07:28:11.434346Z"
        },
        "colab": {
          "base_uri": "https://localhost:8080/",
          "height": 206
        },
        "id": "iTsF1X4UUGKi",
        "outputId": "9170852c-226c-42ff-ba75-b3db1667f8ea"
      },
      "outputs": [
        {
          "output_type": "execute_result",
          "data": {
            "text/plain": [
              "   gender  age country subscription_type  listening_time  \\\n",
              "0  Female   54      CA              Free              26   \n",
              "1   Other   33      DE            Family             141   \n",
              "2    Male   38      AU           Premium             199   \n",
              "3  Female   22      CA           Student              36   \n",
              "4   Other   29      US            Family             250   \n",
              "\n",
              "   songs_played_per_day  skip_rate device_type  ads_listened_per_week  \\\n",
              "0                    23       0.20     Desktop                     31   \n",
              "1                    62       0.34         Web                      0   \n",
              "2                    38       0.04      Mobile                      0   \n",
              "3                     2       0.31      Mobile                      0   \n",
              "4                    57       0.36      Mobile                      0   \n",
              "\n",
              "   offline_listening  is_churned  \n",
              "0                  0           1  \n",
              "1                  1           0  \n",
              "2                  1           1  \n",
              "3                  1           0  \n",
              "4                  1           1  "
            ],
            "text/html": [
              "\n",
              "  <div id=\"df-ce35108d-c907-47cd-831b-1414e639e3f1\" class=\"colab-df-container\">\n",
              "    <div>\n",
              "<style scoped>\n",
              "    .dataframe tbody tr th:only-of-type {\n",
              "        vertical-align: middle;\n",
              "    }\n",
              "\n",
              "    .dataframe tbody tr th {\n",
              "        vertical-align: top;\n",
              "    }\n",
              "\n",
              "    .dataframe thead th {\n",
              "        text-align: right;\n",
              "    }\n",
              "</style>\n",
              "<table border=\"1\" class=\"dataframe\">\n",
              "  <thead>\n",
              "    <tr style=\"text-align: right;\">\n",
              "      <th></th>\n",
              "      <th>gender</th>\n",
              "      <th>age</th>\n",
              "      <th>country</th>\n",
              "      <th>subscription_type</th>\n",
              "      <th>listening_time</th>\n",
              "      <th>songs_played_per_day</th>\n",
              "      <th>skip_rate</th>\n",
              "      <th>device_type</th>\n",
              "      <th>ads_listened_per_week</th>\n",
              "      <th>offline_listening</th>\n",
              "      <th>is_churned</th>\n",
              "    </tr>\n",
              "  </thead>\n",
              "  <tbody>\n",
              "    <tr>\n",
              "      <th>0</th>\n",
              "      <td>Female</td>\n",
              "      <td>54</td>\n",
              "      <td>CA</td>\n",
              "      <td>Free</td>\n",
              "      <td>26</td>\n",
              "      <td>23</td>\n",
              "      <td>0.20</td>\n",
              "      <td>Desktop</td>\n",
              "      <td>31</td>\n",
              "      <td>0</td>\n",
              "      <td>1</td>\n",
              "    </tr>\n",
              "    <tr>\n",
              "      <th>1</th>\n",
              "      <td>Other</td>\n",
              "      <td>33</td>\n",
              "      <td>DE</td>\n",
              "      <td>Family</td>\n",
              "      <td>141</td>\n",
              "      <td>62</td>\n",
              "      <td>0.34</td>\n",
              "      <td>Web</td>\n",
              "      <td>0</td>\n",
              "      <td>1</td>\n",
              "      <td>0</td>\n",
              "    </tr>\n",
              "    <tr>\n",
              "      <th>2</th>\n",
              "      <td>Male</td>\n",
              "      <td>38</td>\n",
              "      <td>AU</td>\n",
              "      <td>Premium</td>\n",
              "      <td>199</td>\n",
              "      <td>38</td>\n",
              "      <td>0.04</td>\n",
              "      <td>Mobile</td>\n",
              "      <td>0</td>\n",
              "      <td>1</td>\n",
              "      <td>1</td>\n",
              "    </tr>\n",
              "    <tr>\n",
              "      <th>3</th>\n",
              "      <td>Female</td>\n",
              "      <td>22</td>\n",
              "      <td>CA</td>\n",
              "      <td>Student</td>\n",
              "      <td>36</td>\n",
              "      <td>2</td>\n",
              "      <td>0.31</td>\n",
              "      <td>Mobile</td>\n",
              "      <td>0</td>\n",
              "      <td>1</td>\n",
              "      <td>0</td>\n",
              "    </tr>\n",
              "    <tr>\n",
              "      <th>4</th>\n",
              "      <td>Other</td>\n",
              "      <td>29</td>\n",
              "      <td>US</td>\n",
              "      <td>Family</td>\n",
              "      <td>250</td>\n",
              "      <td>57</td>\n",
              "      <td>0.36</td>\n",
              "      <td>Mobile</td>\n",
              "      <td>0</td>\n",
              "      <td>1</td>\n",
              "      <td>1</td>\n",
              "    </tr>\n",
              "  </tbody>\n",
              "</table>\n",
              "</div>\n",
              "    <div class=\"colab-df-buttons\">\n",
              "\n",
              "  <div class=\"colab-df-container\">\n",
              "    <button class=\"colab-df-convert\" onclick=\"convertToInteractive('df-ce35108d-c907-47cd-831b-1414e639e3f1')\"\n",
              "            title=\"Convert this dataframe to an interactive table.\"\n",
              "            style=\"display:none;\">\n",
              "\n",
              "  <svg xmlns=\"http://www.w3.org/2000/svg\" height=\"24px\" viewBox=\"0 -960 960 960\">\n",
              "    <path d=\"M120-120v-720h720v720H120Zm60-500h600v-160H180v160Zm220 220h160v-160H400v160Zm0 220h160v-160H400v160ZM180-400h160v-160H180v160Zm440 0h160v-160H620v160ZM180-180h160v-160H180v160Zm440 0h160v-160H620v160Z\"/>\n",
              "  </svg>\n",
              "    </button>\n",
              "\n",
              "  <style>\n",
              "    .colab-df-container {\n",
              "      display:flex;\n",
              "      gap: 12px;\n",
              "    }\n",
              "\n",
              "    .colab-df-convert {\n",
              "      background-color: #E8F0FE;\n",
              "      border: none;\n",
              "      border-radius: 50%;\n",
              "      cursor: pointer;\n",
              "      display: none;\n",
              "      fill: #1967D2;\n",
              "      height: 32px;\n",
              "      padding: 0 0 0 0;\n",
              "      width: 32px;\n",
              "    }\n",
              "\n",
              "    .colab-df-convert:hover {\n",
              "      background-color: #E2EBFA;\n",
              "      box-shadow: 0px 1px 2px rgba(60, 64, 67, 0.3), 0px 1px 3px 1px rgba(60, 64, 67, 0.15);\n",
              "      fill: #174EA6;\n",
              "    }\n",
              "\n",
              "    .colab-df-buttons div {\n",
              "      margin-bottom: 4px;\n",
              "    }\n",
              "\n",
              "    [theme=dark] .colab-df-convert {\n",
              "      background-color: #3B4455;\n",
              "      fill: #D2E3FC;\n",
              "    }\n",
              "\n",
              "    [theme=dark] .colab-df-convert:hover {\n",
              "      background-color: #434B5C;\n",
              "      box-shadow: 0px 1px 3px 1px rgba(0, 0, 0, 0.15);\n",
              "      filter: drop-shadow(0px 1px 2px rgba(0, 0, 0, 0.3));\n",
              "      fill: #FFFFFF;\n",
              "    }\n",
              "  </style>\n",
              "\n",
              "    <script>\n",
              "      const buttonEl =\n",
              "        document.querySelector('#df-ce35108d-c907-47cd-831b-1414e639e3f1 button.colab-df-convert');\n",
              "      buttonEl.style.display =\n",
              "        google.colab.kernel.accessAllowed ? 'block' : 'none';\n",
              "\n",
              "      async function convertToInteractive(key) {\n",
              "        const element = document.querySelector('#df-ce35108d-c907-47cd-831b-1414e639e3f1');\n",
              "        const dataTable =\n",
              "          await google.colab.kernel.invokeFunction('convertToInteractive',\n",
              "                                                    [key], {});\n",
              "        if (!dataTable) return;\n",
              "\n",
              "        const docLinkHtml = 'Like what you see? Visit the ' +\n",
              "          '<a target=\"_blank\" href=https://colab.research.google.com/notebooks/data_table.ipynb>data table notebook</a>'\n",
              "          + ' to learn more about interactive tables.';\n",
              "        element.innerHTML = '';\n",
              "        dataTable['output_type'] = 'display_data';\n",
              "        await google.colab.output.renderOutput(dataTable, element);\n",
              "        const docLink = document.createElement('div');\n",
              "        docLink.innerHTML = docLinkHtml;\n",
              "        element.appendChild(docLink);\n",
              "      }\n",
              "    </script>\n",
              "  </div>\n",
              "\n",
              "\n",
              "    <div id=\"df-dc165cb6-1d63-4cc2-b58c-860714ecd142\">\n",
              "      <button class=\"colab-df-quickchart\" onclick=\"quickchart('df-dc165cb6-1d63-4cc2-b58c-860714ecd142')\"\n",
              "                title=\"Suggest charts\"\n",
              "                style=\"display:none;\">\n",
              "\n",
              "<svg xmlns=\"http://www.w3.org/2000/svg\" height=\"24px\"viewBox=\"0 0 24 24\"\n",
              "     width=\"24px\">\n",
              "    <g>\n",
              "        <path d=\"M19 3H5c-1.1 0-2 .9-2 2v14c0 1.1.9 2 2 2h14c1.1 0 2-.9 2-2V5c0-1.1-.9-2-2-2zM9 17H7v-7h2v7zm4 0h-2V7h2v10zm4 0h-2v-4h2v4z\"/>\n",
              "    </g>\n",
              "</svg>\n",
              "      </button>\n",
              "\n",
              "<style>\n",
              "  .colab-df-quickchart {\n",
              "      --bg-color: #E8F0FE;\n",
              "      --fill-color: #1967D2;\n",
              "      --hover-bg-color: #E2EBFA;\n",
              "      --hover-fill-color: #174EA6;\n",
              "      --disabled-fill-color: #AAA;\n",
              "      --disabled-bg-color: #DDD;\n",
              "  }\n",
              "\n",
              "  [theme=dark] .colab-df-quickchart {\n",
              "      --bg-color: #3B4455;\n",
              "      --fill-color: #D2E3FC;\n",
              "      --hover-bg-color: #434B5C;\n",
              "      --hover-fill-color: #FFFFFF;\n",
              "      --disabled-bg-color: #3B4455;\n",
              "      --disabled-fill-color: #666;\n",
              "  }\n",
              "\n",
              "  .colab-df-quickchart {\n",
              "    background-color: var(--bg-color);\n",
              "    border: none;\n",
              "    border-radius: 50%;\n",
              "    cursor: pointer;\n",
              "    display: none;\n",
              "    fill: var(--fill-color);\n",
              "    height: 32px;\n",
              "    padding: 0;\n",
              "    width: 32px;\n",
              "  }\n",
              "\n",
              "  .colab-df-quickchart:hover {\n",
              "    background-color: var(--hover-bg-color);\n",
              "    box-shadow: 0 1px 2px rgba(60, 64, 67, 0.3), 0 1px 3px 1px rgba(60, 64, 67, 0.15);\n",
              "    fill: var(--button-hover-fill-color);\n",
              "  }\n",
              "\n",
              "  .colab-df-quickchart-complete:disabled,\n",
              "  .colab-df-quickchart-complete:disabled:hover {\n",
              "    background-color: var(--disabled-bg-color);\n",
              "    fill: var(--disabled-fill-color);\n",
              "    box-shadow: none;\n",
              "  }\n",
              "\n",
              "  .colab-df-spinner {\n",
              "    border: 2px solid var(--fill-color);\n",
              "    border-color: transparent;\n",
              "    border-bottom-color: var(--fill-color);\n",
              "    animation:\n",
              "      spin 1s steps(1) infinite;\n",
              "  }\n",
              "\n",
              "  @keyframes spin {\n",
              "    0% {\n",
              "      border-color: transparent;\n",
              "      border-bottom-color: var(--fill-color);\n",
              "      border-left-color: var(--fill-color);\n",
              "    }\n",
              "    20% {\n",
              "      border-color: transparent;\n",
              "      border-left-color: var(--fill-color);\n",
              "      border-top-color: var(--fill-color);\n",
              "    }\n",
              "    30% {\n",
              "      border-color: transparent;\n",
              "      border-left-color: var(--fill-color);\n",
              "      border-top-color: var(--fill-color);\n",
              "      border-right-color: var(--fill-color);\n",
              "    }\n",
              "    40% {\n",
              "      border-color: transparent;\n",
              "      border-right-color: var(--fill-color);\n",
              "      border-top-color: var(--fill-color);\n",
              "    }\n",
              "    60% {\n",
              "      border-color: transparent;\n",
              "      border-right-color: var(--fill-color);\n",
              "    }\n",
              "    80% {\n",
              "      border-color: transparent;\n",
              "      border-right-color: var(--fill-color);\n",
              "      border-bottom-color: var(--fill-color);\n",
              "    }\n",
              "    90% {\n",
              "      border-color: transparent;\n",
              "      border-bottom-color: var(--fill-color);\n",
              "    }\n",
              "  }\n",
              "</style>\n",
              "\n",
              "      <script>\n",
              "        async function quickchart(key) {\n",
              "          const quickchartButtonEl =\n",
              "            document.querySelector('#' + key + ' button');\n",
              "          quickchartButtonEl.disabled = true;  // To prevent multiple clicks.\n",
              "          quickchartButtonEl.classList.add('colab-df-spinner');\n",
              "          try {\n",
              "            const charts = await google.colab.kernel.invokeFunction(\n",
              "                'suggestCharts', [key], {});\n",
              "          } catch (error) {\n",
              "            console.error('Error during call to suggestCharts:', error);\n",
              "          }\n",
              "          quickchartButtonEl.classList.remove('colab-df-spinner');\n",
              "          quickchartButtonEl.classList.add('colab-df-quickchart-complete');\n",
              "        }\n",
              "        (() => {\n",
              "          let quickchartButtonEl =\n",
              "            document.querySelector('#df-dc165cb6-1d63-4cc2-b58c-860714ecd142 button');\n",
              "          quickchartButtonEl.style.display =\n",
              "            google.colab.kernel.accessAllowed ? 'block' : 'none';\n",
              "        })();\n",
              "      </script>\n",
              "    </div>\n",
              "\n",
              "    </div>\n",
              "  </div>\n"
            ],
            "application/vnd.google.colaboratory.intrinsic+json": {
              "type": "dataframe",
              "variable_name": "df_new",
              "summary": "{\n  \"name\": \"df_new\",\n  \"rows\": 8000,\n  \"fields\": [\n    {\n      \"column\": \"gender\",\n      \"properties\": {\n        \"dtype\": \"category\",\n        \"num_unique_values\": 3,\n        \"samples\": [\n          \"Female\",\n          \"Other\",\n          \"Male\"\n        ],\n        \"semantic_type\": \"\",\n        \"description\": \"\"\n      }\n    },\n    {\n      \"column\": \"age\",\n      \"properties\": {\n        \"dtype\": \"number\",\n        \"std\": 12,\n        \"min\": 16,\n        \"max\": 59,\n        \"num_unique_values\": 44,\n        \"samples\": [\n          52,\n          42,\n          51\n        ],\n        \"semantic_type\": \"\",\n        \"description\": \"\"\n      }\n    },\n    {\n      \"column\": \"country\",\n      \"properties\": {\n        \"dtype\": \"category\",\n        \"num_unique_values\": 8,\n        \"samples\": [\n          \"DE\",\n          \"IN\",\n          \"CA\"\n        ],\n        \"semantic_type\": \"\",\n        \"description\": \"\"\n      }\n    },\n    {\n      \"column\": \"subscription_type\",\n      \"properties\": {\n        \"dtype\": \"category\",\n        \"num_unique_values\": 4,\n        \"samples\": [\n          \"Family\",\n          \"Student\",\n          \"Free\"\n        ],\n        \"semantic_type\": \"\",\n        \"description\": \"\"\n      }\n    },\n    {\n      \"column\": \"listening_time\",\n      \"properties\": {\n        \"dtype\": \"number\",\n        \"std\": 84,\n        \"min\": 10,\n        \"max\": 299,\n        \"num_unique_values\": 290,\n        \"samples\": [\n          215,\n          154,\n          124\n        ],\n        \"semantic_type\": \"\",\n        \"description\": \"\"\n      }\n    },\n    {\n      \"column\": \"songs_played_per_day\",\n      \"properties\": {\n        \"dtype\": \"number\",\n        \"std\": 28,\n        \"min\": 1,\n        \"max\": 99,\n        \"num_unique_values\": 99,\n        \"samples\": [\n          36,\n          3,\n          64\n        ],\n        \"semantic_type\": \"\",\n        \"description\": \"\"\n      }\n    },\n    {\n      \"column\": \"skip_rate\",\n      \"properties\": {\n        \"dtype\": \"number\",\n        \"std\": 0.17359414048132843,\n        \"min\": 0.0,\n        \"max\": 0.6,\n        \"num_unique_values\": 61,\n        \"samples\": [\n          0.2,\n          0.46,\n          0.37\n        ],\n        \"semantic_type\": \"\",\n        \"description\": \"\"\n      }\n    },\n    {\n      \"column\": \"device_type\",\n      \"properties\": {\n        \"dtype\": \"category\",\n        \"num_unique_values\": 3,\n        \"samples\": [\n          \"Desktop\",\n          \"Web\",\n          \"Mobile\"\n        ],\n        \"semantic_type\": \"\",\n        \"description\": \"\"\n      }\n    },\n    {\n      \"column\": \"ads_listened_per_week\",\n      \"properties\": {\n        \"dtype\": \"number\",\n        \"std\": 13,\n        \"min\": 0,\n        \"max\": 49,\n        \"num_unique_values\": 46,\n        \"samples\": [\n          41,\n          36,\n          27\n        ],\n        \"semantic_type\": \"\",\n        \"description\": \"\"\n      }\n    },\n    {\n      \"column\": \"offline_listening\",\n      \"properties\": {\n        \"dtype\": \"number\",\n        \"std\": 0,\n        \"min\": 0,\n        \"max\": 1,\n        \"num_unique_values\": 2,\n        \"samples\": [\n          1,\n          0\n        ],\n        \"semantic_type\": \"\",\n        \"description\": \"\"\n      }\n    },\n    {\n      \"column\": \"is_churned\",\n      \"properties\": {\n        \"dtype\": \"number\",\n        \"std\": 0,\n        \"min\": 0,\n        \"max\": 1,\n        \"num_unique_values\": 2,\n        \"samples\": [\n          0,\n          1\n        ],\n        \"semantic_type\": \"\",\n        \"description\": \"\"\n      }\n    }\n  ]\n}"
            }
          },
          "metadata": {},
          "execution_count": 61
        }
      ],
      "execution_count": 61
    },
    {
      "cell_type": "code",
      "source": [
        "df_encoded = pd.get_dummies(df_new, columns = [\"country\",\"gender\",\"subscription_type\",\"device_type\"])\n",
        "df_encoded.head(5)"
      ],
      "metadata": {
        "trusted": true,
        "execution": {
          "iopub.status.busy": "2025-10-18T07:28:11.580764Z",
          "iopub.execute_input": "2025-10-18T07:28:11.581111Z",
          "iopub.status.idle": "2025-10-18T07:28:11.610931Z",
          "shell.execute_reply.started": "2025-10-18T07:28:11.581085Z",
          "shell.execute_reply": "2025-10-18T07:28:11.609971Z"
        },
        "colab": {
          "base_uri": "https://localhost:8080/",
          "height": 256
        },
        "id": "ze8PguPEUGKi",
        "outputId": "2dcc10c9-d831-41cd-95e9-8713484e267d"
      },
      "outputs": [
        {
          "output_type": "execute_result",
          "data": {
            "text/plain": [
              "   age  listening_time  songs_played_per_day  skip_rate  \\\n",
              "0   54              26                    23       0.20   \n",
              "1   33             141                    62       0.34   \n",
              "2   38             199                    38       0.04   \n",
              "3   22              36                     2       0.31   \n",
              "4   29             250                    57       0.36   \n",
              "\n",
              "   ads_listened_per_week  offline_listening  is_churned  country_AU  \\\n",
              "0                     31                  0           1       False   \n",
              "1                      0                  1           0       False   \n",
              "2                      0                  1           1        True   \n",
              "3                      0                  1           0       False   \n",
              "4                      0                  1           1       False   \n",
              "\n",
              "   country_CA  country_DE  ...  gender_Female  gender_Male  gender_Other  \\\n",
              "0        True       False  ...           True        False         False   \n",
              "1       False        True  ...          False        False          True   \n",
              "2       False       False  ...          False         True         False   \n",
              "3        True       False  ...           True        False         False   \n",
              "4       False       False  ...          False        False          True   \n",
              "\n",
              "   subscription_type_Family  subscription_type_Free  \\\n",
              "0                     False                    True   \n",
              "1                      True                   False   \n",
              "2                     False                   False   \n",
              "3                     False                   False   \n",
              "4                      True                   False   \n",
              "\n",
              "   subscription_type_Premium  subscription_type_Student  device_type_Desktop  \\\n",
              "0                      False                      False                 True   \n",
              "1                      False                      False                False   \n",
              "2                       True                      False                False   \n",
              "3                      False                       True                False   \n",
              "4                      False                      False                False   \n",
              "\n",
              "   device_type_Mobile  device_type_Web  \n",
              "0               False            False  \n",
              "1               False             True  \n",
              "2                True            False  \n",
              "3                True            False  \n",
              "4                True            False  \n",
              "\n",
              "[5 rows x 25 columns]"
            ],
            "text/html": [
              "\n",
              "  <div id=\"df-da82186d-bf57-44ae-88b3-f4b404b3eeba\" class=\"colab-df-container\">\n",
              "    <div>\n",
              "<style scoped>\n",
              "    .dataframe tbody tr th:only-of-type {\n",
              "        vertical-align: middle;\n",
              "    }\n",
              "\n",
              "    .dataframe tbody tr th {\n",
              "        vertical-align: top;\n",
              "    }\n",
              "\n",
              "    .dataframe thead th {\n",
              "        text-align: right;\n",
              "    }\n",
              "</style>\n",
              "<table border=\"1\" class=\"dataframe\">\n",
              "  <thead>\n",
              "    <tr style=\"text-align: right;\">\n",
              "      <th></th>\n",
              "      <th>age</th>\n",
              "      <th>listening_time</th>\n",
              "      <th>songs_played_per_day</th>\n",
              "      <th>skip_rate</th>\n",
              "      <th>ads_listened_per_week</th>\n",
              "      <th>offline_listening</th>\n",
              "      <th>is_churned</th>\n",
              "      <th>country_AU</th>\n",
              "      <th>country_CA</th>\n",
              "      <th>country_DE</th>\n",
              "      <th>...</th>\n",
              "      <th>gender_Female</th>\n",
              "      <th>gender_Male</th>\n",
              "      <th>gender_Other</th>\n",
              "      <th>subscription_type_Family</th>\n",
              "      <th>subscription_type_Free</th>\n",
              "      <th>subscription_type_Premium</th>\n",
              "      <th>subscription_type_Student</th>\n",
              "      <th>device_type_Desktop</th>\n",
              "      <th>device_type_Mobile</th>\n",
              "      <th>device_type_Web</th>\n",
              "    </tr>\n",
              "  </thead>\n",
              "  <tbody>\n",
              "    <tr>\n",
              "      <th>0</th>\n",
              "      <td>54</td>\n",
              "      <td>26</td>\n",
              "      <td>23</td>\n",
              "      <td>0.20</td>\n",
              "      <td>31</td>\n",
              "      <td>0</td>\n",
              "      <td>1</td>\n",
              "      <td>False</td>\n",
              "      <td>True</td>\n",
              "      <td>False</td>\n",
              "      <td>...</td>\n",
              "      <td>True</td>\n",
              "      <td>False</td>\n",
              "      <td>False</td>\n",
              "      <td>False</td>\n",
              "      <td>True</td>\n",
              "      <td>False</td>\n",
              "      <td>False</td>\n",
              "      <td>True</td>\n",
              "      <td>False</td>\n",
              "      <td>False</td>\n",
              "    </tr>\n",
              "    <tr>\n",
              "      <th>1</th>\n",
              "      <td>33</td>\n",
              "      <td>141</td>\n",
              "      <td>62</td>\n",
              "      <td>0.34</td>\n",
              "      <td>0</td>\n",
              "      <td>1</td>\n",
              "      <td>0</td>\n",
              "      <td>False</td>\n",
              "      <td>False</td>\n",
              "      <td>True</td>\n",
              "      <td>...</td>\n",
              "      <td>False</td>\n",
              "      <td>False</td>\n",
              "      <td>True</td>\n",
              "      <td>True</td>\n",
              "      <td>False</td>\n",
              "      <td>False</td>\n",
              "      <td>False</td>\n",
              "      <td>False</td>\n",
              "      <td>False</td>\n",
              "      <td>True</td>\n",
              "    </tr>\n",
              "    <tr>\n",
              "      <th>2</th>\n",
              "      <td>38</td>\n",
              "      <td>199</td>\n",
              "      <td>38</td>\n",
              "      <td>0.04</td>\n",
              "      <td>0</td>\n",
              "      <td>1</td>\n",
              "      <td>1</td>\n",
              "      <td>True</td>\n",
              "      <td>False</td>\n",
              "      <td>False</td>\n",
              "      <td>...</td>\n",
              "      <td>False</td>\n",
              "      <td>True</td>\n",
              "      <td>False</td>\n",
              "      <td>False</td>\n",
              "      <td>False</td>\n",
              "      <td>True</td>\n",
              "      <td>False</td>\n",
              "      <td>False</td>\n",
              "      <td>True</td>\n",
              "      <td>False</td>\n",
              "    </tr>\n",
              "    <tr>\n",
              "      <th>3</th>\n",
              "      <td>22</td>\n",
              "      <td>36</td>\n",
              "      <td>2</td>\n",
              "      <td>0.31</td>\n",
              "      <td>0</td>\n",
              "      <td>1</td>\n",
              "      <td>0</td>\n",
              "      <td>False</td>\n",
              "      <td>True</td>\n",
              "      <td>False</td>\n",
              "      <td>...</td>\n",
              "      <td>True</td>\n",
              "      <td>False</td>\n",
              "      <td>False</td>\n",
              "      <td>False</td>\n",
              "      <td>False</td>\n",
              "      <td>False</td>\n",
              "      <td>True</td>\n",
              "      <td>False</td>\n",
              "      <td>True</td>\n",
              "      <td>False</td>\n",
              "    </tr>\n",
              "    <tr>\n",
              "      <th>4</th>\n",
              "      <td>29</td>\n",
              "      <td>250</td>\n",
              "      <td>57</td>\n",
              "      <td>0.36</td>\n",
              "      <td>0</td>\n",
              "      <td>1</td>\n",
              "      <td>1</td>\n",
              "      <td>False</td>\n",
              "      <td>False</td>\n",
              "      <td>False</td>\n",
              "      <td>...</td>\n",
              "      <td>False</td>\n",
              "      <td>False</td>\n",
              "      <td>True</td>\n",
              "      <td>True</td>\n",
              "      <td>False</td>\n",
              "      <td>False</td>\n",
              "      <td>False</td>\n",
              "      <td>False</td>\n",
              "      <td>True</td>\n",
              "      <td>False</td>\n",
              "    </tr>\n",
              "  </tbody>\n",
              "</table>\n",
              "<p>5 rows × 25 columns</p>\n",
              "</div>\n",
              "    <div class=\"colab-df-buttons\">\n",
              "\n",
              "  <div class=\"colab-df-container\">\n",
              "    <button class=\"colab-df-convert\" onclick=\"convertToInteractive('df-da82186d-bf57-44ae-88b3-f4b404b3eeba')\"\n",
              "            title=\"Convert this dataframe to an interactive table.\"\n",
              "            style=\"display:none;\">\n",
              "\n",
              "  <svg xmlns=\"http://www.w3.org/2000/svg\" height=\"24px\" viewBox=\"0 -960 960 960\">\n",
              "    <path d=\"M120-120v-720h720v720H120Zm60-500h600v-160H180v160Zm220 220h160v-160H400v160Zm0 220h160v-160H400v160ZM180-400h160v-160H180v160Zm440 0h160v-160H620v160ZM180-180h160v-160H180v160Zm440 0h160v-160H620v160Z\"/>\n",
              "  </svg>\n",
              "    </button>\n",
              "\n",
              "  <style>\n",
              "    .colab-df-container {\n",
              "      display:flex;\n",
              "      gap: 12px;\n",
              "    }\n",
              "\n",
              "    .colab-df-convert {\n",
              "      background-color: #E8F0FE;\n",
              "      border: none;\n",
              "      border-radius: 50%;\n",
              "      cursor: pointer;\n",
              "      display: none;\n",
              "      fill: #1967D2;\n",
              "      height: 32px;\n",
              "      padding: 0 0 0 0;\n",
              "      width: 32px;\n",
              "    }\n",
              "\n",
              "    .colab-df-convert:hover {\n",
              "      background-color: #E2EBFA;\n",
              "      box-shadow: 0px 1px 2px rgba(60, 64, 67, 0.3), 0px 1px 3px 1px rgba(60, 64, 67, 0.15);\n",
              "      fill: #174EA6;\n",
              "    }\n",
              "\n",
              "    .colab-df-buttons div {\n",
              "      margin-bottom: 4px;\n",
              "    }\n",
              "\n",
              "    [theme=dark] .colab-df-convert {\n",
              "      background-color: #3B4455;\n",
              "      fill: #D2E3FC;\n",
              "    }\n",
              "\n",
              "    [theme=dark] .colab-df-convert:hover {\n",
              "      background-color: #434B5C;\n",
              "      box-shadow: 0px 1px 3px 1px rgba(0, 0, 0, 0.15);\n",
              "      filter: drop-shadow(0px 1px 2px rgba(0, 0, 0, 0.3));\n",
              "      fill: #FFFFFF;\n",
              "    }\n",
              "  </style>\n",
              "\n",
              "    <script>\n",
              "      const buttonEl =\n",
              "        document.querySelector('#df-da82186d-bf57-44ae-88b3-f4b404b3eeba button.colab-df-convert');\n",
              "      buttonEl.style.display =\n",
              "        google.colab.kernel.accessAllowed ? 'block' : 'none';\n",
              "\n",
              "      async function convertToInteractive(key) {\n",
              "        const element = document.querySelector('#df-da82186d-bf57-44ae-88b3-f4b404b3eeba');\n",
              "        const dataTable =\n",
              "          await google.colab.kernel.invokeFunction('convertToInteractive',\n",
              "                                                    [key], {});\n",
              "        if (!dataTable) return;\n",
              "\n",
              "        const docLinkHtml = 'Like what you see? Visit the ' +\n",
              "          '<a target=\"_blank\" href=https://colab.research.google.com/notebooks/data_table.ipynb>data table notebook</a>'\n",
              "          + ' to learn more about interactive tables.';\n",
              "        element.innerHTML = '';\n",
              "        dataTable['output_type'] = 'display_data';\n",
              "        await google.colab.output.renderOutput(dataTable, element);\n",
              "        const docLink = document.createElement('div');\n",
              "        docLink.innerHTML = docLinkHtml;\n",
              "        element.appendChild(docLink);\n",
              "      }\n",
              "    </script>\n",
              "  </div>\n",
              "\n",
              "\n",
              "    <div id=\"df-e1906922-cbfb-42f3-b7ff-dc50ebf2e563\">\n",
              "      <button class=\"colab-df-quickchart\" onclick=\"quickchart('df-e1906922-cbfb-42f3-b7ff-dc50ebf2e563')\"\n",
              "                title=\"Suggest charts\"\n",
              "                style=\"display:none;\">\n",
              "\n",
              "<svg xmlns=\"http://www.w3.org/2000/svg\" height=\"24px\"viewBox=\"0 0 24 24\"\n",
              "     width=\"24px\">\n",
              "    <g>\n",
              "        <path d=\"M19 3H5c-1.1 0-2 .9-2 2v14c0 1.1.9 2 2 2h14c1.1 0 2-.9 2-2V5c0-1.1-.9-2-2-2zM9 17H7v-7h2v7zm4 0h-2V7h2v10zm4 0h-2v-4h2v4z\"/>\n",
              "    </g>\n",
              "</svg>\n",
              "      </button>\n",
              "\n",
              "<style>\n",
              "  .colab-df-quickchart {\n",
              "      --bg-color: #E8F0FE;\n",
              "      --fill-color: #1967D2;\n",
              "      --hover-bg-color: #E2EBFA;\n",
              "      --hover-fill-color: #174EA6;\n",
              "      --disabled-fill-color: #AAA;\n",
              "      --disabled-bg-color: #DDD;\n",
              "  }\n",
              "\n",
              "  [theme=dark] .colab-df-quickchart {\n",
              "      --bg-color: #3B4455;\n",
              "      --fill-color: #D2E3FC;\n",
              "      --hover-bg-color: #434B5C;\n",
              "      --hover-fill-color: #FFFFFF;\n",
              "      --disabled-bg-color: #3B4455;\n",
              "      --disabled-fill-color: #666;\n",
              "  }\n",
              "\n",
              "  .colab-df-quickchart {\n",
              "    background-color: var(--bg-color);\n",
              "    border: none;\n",
              "    border-radius: 50%;\n",
              "    cursor: pointer;\n",
              "    display: none;\n",
              "    fill: var(--fill-color);\n",
              "    height: 32px;\n",
              "    padding: 0;\n",
              "    width: 32px;\n",
              "  }\n",
              "\n",
              "  .colab-df-quickchart:hover {\n",
              "    background-color: var(--hover-bg-color);\n",
              "    box-shadow: 0 1px 2px rgba(60, 64, 67, 0.3), 0 1px 3px 1px rgba(60, 64, 67, 0.15);\n",
              "    fill: var(--button-hover-fill-color);\n",
              "  }\n",
              "\n",
              "  .colab-df-quickchart-complete:disabled,\n",
              "  .colab-df-quickchart-complete:disabled:hover {\n",
              "    background-color: var(--disabled-bg-color);\n",
              "    fill: var(--disabled-fill-color);\n",
              "    box-shadow: none;\n",
              "  }\n",
              "\n",
              "  .colab-df-spinner {\n",
              "    border: 2px solid var(--fill-color);\n",
              "    border-color: transparent;\n",
              "    border-bottom-color: var(--fill-color);\n",
              "    animation:\n",
              "      spin 1s steps(1) infinite;\n",
              "  }\n",
              "\n",
              "  @keyframes spin {\n",
              "    0% {\n",
              "      border-color: transparent;\n",
              "      border-bottom-color: var(--fill-color);\n",
              "      border-left-color: var(--fill-color);\n",
              "    }\n",
              "    20% {\n",
              "      border-color: transparent;\n",
              "      border-left-color: var(--fill-color);\n",
              "      border-top-color: var(--fill-color);\n",
              "    }\n",
              "    30% {\n",
              "      border-color: transparent;\n",
              "      border-left-color: var(--fill-color);\n",
              "      border-top-color: var(--fill-color);\n",
              "      border-right-color: var(--fill-color);\n",
              "    }\n",
              "    40% {\n",
              "      border-color: transparent;\n",
              "      border-right-color: var(--fill-color);\n",
              "      border-top-color: var(--fill-color);\n",
              "    }\n",
              "    60% {\n",
              "      border-color: transparent;\n",
              "      border-right-color: var(--fill-color);\n",
              "    }\n",
              "    80% {\n",
              "      border-color: transparent;\n",
              "      border-right-color: var(--fill-color);\n",
              "      border-bottom-color: var(--fill-color);\n",
              "    }\n",
              "    90% {\n",
              "      border-color: transparent;\n",
              "      border-bottom-color: var(--fill-color);\n",
              "    }\n",
              "  }\n",
              "</style>\n",
              "\n",
              "      <script>\n",
              "        async function quickchart(key) {\n",
              "          const quickchartButtonEl =\n",
              "            document.querySelector('#' + key + ' button');\n",
              "          quickchartButtonEl.disabled = true;  // To prevent multiple clicks.\n",
              "          quickchartButtonEl.classList.add('colab-df-spinner');\n",
              "          try {\n",
              "            const charts = await google.colab.kernel.invokeFunction(\n",
              "                'suggestCharts', [key], {});\n",
              "          } catch (error) {\n",
              "            console.error('Error during call to suggestCharts:', error);\n",
              "          }\n",
              "          quickchartButtonEl.classList.remove('colab-df-spinner');\n",
              "          quickchartButtonEl.classList.add('colab-df-quickchart-complete');\n",
              "        }\n",
              "        (() => {\n",
              "          let quickchartButtonEl =\n",
              "            document.querySelector('#df-e1906922-cbfb-42f3-b7ff-dc50ebf2e563 button');\n",
              "          quickchartButtonEl.style.display =\n",
              "            google.colab.kernel.accessAllowed ? 'block' : 'none';\n",
              "        })();\n",
              "      </script>\n",
              "    </div>\n",
              "\n",
              "    </div>\n",
              "  </div>\n"
            ],
            "application/vnd.google.colaboratory.intrinsic+json": {
              "type": "dataframe",
              "variable_name": "df_encoded"
            }
          },
          "metadata": {},
          "execution_count": 62
        }
      ],
      "execution_count": 62
    },
    {
      "cell_type": "code",
      "source": [
        "df_encoded.corr()[\"is_churned\"]"
      ],
      "metadata": {
        "trusted": true,
        "execution": {
          "iopub.status.busy": "2025-10-18T07:28:11.7334Z",
          "iopub.execute_input": "2025-10-18T07:28:11.734214Z",
          "iopub.status.idle": "2025-10-18T07:28:11.758772Z",
          "shell.execute_reply.started": "2025-10-18T07:28:11.734186Z",
          "shell.execute_reply": "2025-10-18T07:28:11.757704Z"
        },
        "colab": {
          "base_uri": "https://localhost:8080/",
          "height": 868
        },
        "id": "PNq65W7tUGKi",
        "outputId": "633acb04-061e-4d6c-a015-2b2ef24afd79"
      },
      "outputs": [
        {
          "output_type": "execute_result",
          "data": {
            "text/plain": [
              "age                          0.003982\n",
              "listening_time              -0.007624\n",
              "songs_played_per_day         0.009314\n",
              "skip_rate                    0.016121\n",
              "ads_listened_per_week       -0.002279\n",
              "offline_listening            0.012754\n",
              "is_churned                   1.000000\n",
              "country_AU                  -0.001426\n",
              "country_CA                  -0.008776\n",
              "country_DE                   0.012211\n",
              "country_FR                   0.011247\n",
              "country_IN                  -0.013504\n",
              "country_PK                   0.014144\n",
              "country_UK                  -0.009698\n",
              "country_US                  -0.004392\n",
              "gender_Female                0.006453\n",
              "gender_Male                 -0.011254\n",
              "gender_Other                 0.004839\n",
              "subscription_type_Family     0.020803\n",
              "subscription_type_Free      -0.012754\n",
              "subscription_type_Premium   -0.011338\n",
              "subscription_type_Student    0.003892\n",
              "device_type_Desktop         -0.002490\n",
              "device_type_Mobile           0.015955\n",
              "device_type_Web             -0.013392\n",
              "Name: is_churned, dtype: float64"
            ],
            "text/html": [
              "<div>\n",
              "<style scoped>\n",
              "    .dataframe tbody tr th:only-of-type {\n",
              "        vertical-align: middle;\n",
              "    }\n",
              "\n",
              "    .dataframe tbody tr th {\n",
              "        vertical-align: top;\n",
              "    }\n",
              "\n",
              "    .dataframe thead th {\n",
              "        text-align: right;\n",
              "    }\n",
              "</style>\n",
              "<table border=\"1\" class=\"dataframe\">\n",
              "  <thead>\n",
              "    <tr style=\"text-align: right;\">\n",
              "      <th></th>\n",
              "      <th>is_churned</th>\n",
              "    </tr>\n",
              "  </thead>\n",
              "  <tbody>\n",
              "    <tr>\n",
              "      <th>age</th>\n",
              "      <td>0.003982</td>\n",
              "    </tr>\n",
              "    <tr>\n",
              "      <th>listening_time</th>\n",
              "      <td>-0.007624</td>\n",
              "    </tr>\n",
              "    <tr>\n",
              "      <th>songs_played_per_day</th>\n",
              "      <td>0.009314</td>\n",
              "    </tr>\n",
              "    <tr>\n",
              "      <th>skip_rate</th>\n",
              "      <td>0.016121</td>\n",
              "    </tr>\n",
              "    <tr>\n",
              "      <th>ads_listened_per_week</th>\n",
              "      <td>-0.002279</td>\n",
              "    </tr>\n",
              "    <tr>\n",
              "      <th>offline_listening</th>\n",
              "      <td>0.012754</td>\n",
              "    </tr>\n",
              "    <tr>\n",
              "      <th>is_churned</th>\n",
              "      <td>1.000000</td>\n",
              "    </tr>\n",
              "    <tr>\n",
              "      <th>country_AU</th>\n",
              "      <td>-0.001426</td>\n",
              "    </tr>\n",
              "    <tr>\n",
              "      <th>country_CA</th>\n",
              "      <td>-0.008776</td>\n",
              "    </tr>\n",
              "    <tr>\n",
              "      <th>country_DE</th>\n",
              "      <td>0.012211</td>\n",
              "    </tr>\n",
              "    <tr>\n",
              "      <th>country_FR</th>\n",
              "      <td>0.011247</td>\n",
              "    </tr>\n",
              "    <tr>\n",
              "      <th>country_IN</th>\n",
              "      <td>-0.013504</td>\n",
              "    </tr>\n",
              "    <tr>\n",
              "      <th>country_PK</th>\n",
              "      <td>0.014144</td>\n",
              "    </tr>\n",
              "    <tr>\n",
              "      <th>country_UK</th>\n",
              "      <td>-0.009698</td>\n",
              "    </tr>\n",
              "    <tr>\n",
              "      <th>country_US</th>\n",
              "      <td>-0.004392</td>\n",
              "    </tr>\n",
              "    <tr>\n",
              "      <th>gender_Female</th>\n",
              "      <td>0.006453</td>\n",
              "    </tr>\n",
              "    <tr>\n",
              "      <th>gender_Male</th>\n",
              "      <td>-0.011254</td>\n",
              "    </tr>\n",
              "    <tr>\n",
              "      <th>gender_Other</th>\n",
              "      <td>0.004839</td>\n",
              "    </tr>\n",
              "    <tr>\n",
              "      <th>subscription_type_Family</th>\n",
              "      <td>0.020803</td>\n",
              "    </tr>\n",
              "    <tr>\n",
              "      <th>subscription_type_Free</th>\n",
              "      <td>-0.012754</td>\n",
              "    </tr>\n",
              "    <tr>\n",
              "      <th>subscription_type_Premium</th>\n",
              "      <td>-0.011338</td>\n",
              "    </tr>\n",
              "    <tr>\n",
              "      <th>subscription_type_Student</th>\n",
              "      <td>0.003892</td>\n",
              "    </tr>\n",
              "    <tr>\n",
              "      <th>device_type_Desktop</th>\n",
              "      <td>-0.002490</td>\n",
              "    </tr>\n",
              "    <tr>\n",
              "      <th>device_type_Mobile</th>\n",
              "      <td>0.015955</td>\n",
              "    </tr>\n",
              "    <tr>\n",
              "      <th>device_type_Web</th>\n",
              "      <td>-0.013392</td>\n",
              "    </tr>\n",
              "  </tbody>\n",
              "</table>\n",
              "</div><br><label><b>dtype:</b> float64</label>"
            ]
          },
          "metadata": {},
          "execution_count": 63
        }
      ],
      "execution_count": 63
    },
    {
      "cell_type": "markdown",
      "source": [
        "## KNN 실험"
      ],
      "metadata": {
        "id": "mF4V1z1HUGKi"
      }
    },
    {
      "cell_type": "markdown",
      "source": [
        "## 정규화 X, 파라미터 실험"
      ],
      "metadata": {
        "id": "8A2gxpMHUGKi"
      }
    },
    {
      "cell_type": "code",
      "source": [
        "x = df_encoded.drop([\"is_churned\"],axis=1)\n",
        "y = df_encoded[\"is_churned\"]"
      ],
      "metadata": {
        "trusted": true,
        "execution": {
          "iopub.status.busy": "2025-10-18T07:29:23.591005Z",
          "iopub.execute_input": "2025-10-18T07:29:23.591534Z",
          "iopub.status.idle": "2025-10-18T07:29:23.598547Z",
          "shell.execute_reply.started": "2025-10-18T07:29:23.591483Z",
          "shell.execute_reply": "2025-10-18T07:29:23.597521Z"
        },
        "id": "ZSKNXPMeUGKj"
      },
      "outputs": [],
      "execution_count": 64
    },
    {
      "cell_type": "code",
      "source": [
        "from sklearn.model_selection import train_test_split\n",
        "\n",
        "# 8 : 1 : 1\n",
        "x_train,x_test,y_train,y_test = train_test_split(x,y, train_size = 0.8, random_state = 42)\n",
        "x_valid,x_test,y_valid,y_test = train_test_split(x_test,y_test,train_size = 0.5, random_state=42)"
      ],
      "metadata": {
        "trusted": true,
        "execution": {
          "iopub.status.busy": "2025-10-18T07:29:23.600401Z",
          "iopub.execute_input": "2025-10-18T07:29:23.600922Z",
          "iopub.status.idle": "2025-10-18T07:29:23.62283Z",
          "shell.execute_reply.started": "2025-10-18T07:29:23.600893Z",
          "shell.execute_reply": "2025-10-18T07:29:23.621875Z"
        },
        "id": "VASTh9FdUGKj"
      },
      "outputs": [],
      "execution_count": 65
    },
    {
      "cell_type": "code",
      "source": [
        "from sklearn.neighbors import KNeighborsClassifier\n",
        "from sklearn.metrics import accuracy_score\n",
        "\n",
        "metric_list = [\"manhattan\", \"cityblock\", \"cosine\", \"euclidean\", \"l1\", \"l2\", \"nan_euclidean\"]\n",
        "k_list = [1, 2, 3, 4, 5]\n",
        "\n",
        "results = []  # 결과를 저장할 리스트\n",
        "\n",
        "for metric in metric_list:\n",
        "    for k in k_list:\n",
        "        # 모델 생성\n",
        "        knn = KNeighborsClassifier(n_neighbors=k, metric=metric)\n",
        "\n",
        "        # 모델 학습\n",
        "        knn.fit(x_train, y_train)\n",
        "\n",
        "        # 예측\n",
        "        y_pred = knn.predict(x_test)\n",
        "\n",
        "        # 정확도 계산\n",
        "        accuracy = accuracy_score(y_test, y_pred)\n",
        "\n",
        "        # 결과 출력\n",
        "        print(f\"metric={metric:<15} | k={k:<2} | accuracy={accuracy:.4f}\")\n",
        "\n",
        "        # 결과 저장\n",
        "        results.append((metric, k, accuracy))"
      ],
      "metadata": {
        "trusted": true,
        "execution": {
          "iopub.status.busy": "2025-10-18T07:29:23.623983Z",
          "iopub.execute_input": "2025-10-18T07:29:23.62432Z",
          "iopub.status.idle": "2025-10-18T07:29:28.486674Z",
          "shell.execute_reply.started": "2025-10-18T07:29:23.624258Z",
          "shell.execute_reply": "2025-10-18T07:29:28.485654Z"
        },
        "colab": {
          "base_uri": "https://localhost:8080/"
        },
        "id": "23jqNm8yUGKj",
        "outputId": "fe4052da-538a-40d3-ecb4-c2c726103b18"
      },
      "outputs": [
        {
          "output_type": "stream",
          "name": "stdout",
          "text": [
            "metric=manhattan       | k=1  | accuracy=0.5950\n",
            "metric=manhattan       | k=2  | accuracy=0.6975\n",
            "metric=manhattan       | k=3  | accuracy=0.6575\n",
            "metric=manhattan       | k=4  | accuracy=0.7125\n",
            "metric=manhattan       | k=5  | accuracy=0.6787\n",
            "metric=cityblock       | k=1  | accuracy=0.5950\n",
            "metric=cityblock       | k=2  | accuracy=0.6975\n",
            "metric=cityblock       | k=3  | accuracy=0.6575\n",
            "metric=cityblock       | k=4  | accuracy=0.7125\n",
            "metric=cityblock       | k=5  | accuracy=0.6787\n",
            "metric=cosine          | k=1  | accuracy=0.6112\n",
            "metric=cosine          | k=2  | accuracy=0.7100\n",
            "metric=cosine          | k=3  | accuracy=0.6562\n",
            "metric=cosine          | k=4  | accuracy=0.7000\n",
            "metric=cosine          | k=5  | accuracy=0.6663\n",
            "metric=euclidean       | k=1  | accuracy=0.6088\n",
            "metric=euclidean       | k=2  | accuracy=0.7013\n",
            "metric=euclidean       | k=3  | accuracy=0.6538\n",
            "metric=euclidean       | k=4  | accuracy=0.7075\n",
            "metric=euclidean       | k=5  | accuracy=0.6750\n",
            "metric=l1              | k=1  | accuracy=0.5950\n",
            "metric=l1              | k=2  | accuracy=0.6975\n",
            "metric=l1              | k=3  | accuracy=0.6575\n",
            "metric=l1              | k=4  | accuracy=0.7125\n",
            "metric=l1              | k=5  | accuracy=0.6787\n",
            "metric=l2              | k=1  | accuracy=0.6088\n",
            "metric=l2              | k=2  | accuracy=0.7013\n",
            "metric=l2              | k=3  | accuracy=0.6538\n",
            "metric=l2              | k=4  | accuracy=0.7075\n",
            "metric=l2              | k=5  | accuracy=0.6750\n",
            "metric=nan_euclidean   | k=1  | accuracy=0.6088\n",
            "metric=nan_euclidean   | k=2  | accuracy=0.7013\n",
            "metric=nan_euclidean   | k=3  | accuracy=0.6538\n",
            "metric=nan_euclidean   | k=4  | accuracy=0.7075\n",
            "metric=nan_euclidean   | k=5  | accuracy=0.6750\n"
          ]
        }
      ],
      "execution_count": 66
    },
    {
      "cell_type": "markdown",
      "source": [
        "## 정규화 O, 파라미터 실험"
      ],
      "metadata": {
        "id": "izCX3wFpUGKj"
      }
    },
    {
      "cell_type": "code",
      "source": [
        "from sklearn.preprocessing import StandardScaler\n",
        "from sklearn.model_selection import train_test_split\n",
        "\n",
        "num_cols = x.select_dtypes(include=['float64', 'int64']).columns\n",
        "scaler = StandardScaler() # 정규화\n",
        "x[num_cols] = scaler.fit_transform(x[num_cols])\n",
        "\n",
        "# 8 : 1 : 1\n",
        "x_train,x_test,y_train,y_test = train_test_split(x,y, train_size = 0.8, random_state = 42)\n",
        "x_valid,x_test,y_valid,y_test = train_test_split(x_test,y_test,train_size = 0.5, random_state=42)"
      ],
      "metadata": {
        "trusted": true,
        "execution": {
          "iopub.status.busy": "2025-10-18T07:29:28.487919Z",
          "iopub.execute_input": "2025-10-18T07:29:28.488251Z",
          "iopub.status.idle": "2025-10-18T07:29:28.506332Z",
          "shell.execute_reply.started": "2025-10-18T07:29:28.48823Z",
          "shell.execute_reply": "2025-10-18T07:29:28.505169Z"
        },
        "id": "DFMT6hBhUGKj"
      },
      "outputs": [],
      "execution_count": 67
    },
    {
      "cell_type": "code",
      "source": [
        "from sklearn.neighbors import KNeighborsClassifier\n",
        "from sklearn.metrics import accuracy_score\n",
        "\n",
        "metric_list = [\"manhattan\", \"cityblock\", \"cosine\", \"euclidean\", \"l1\", \"l2\", \"nan_euclidean\"]\n",
        "k_list = [1, 2, 3, 4, 5]\n",
        "\n",
        "results = []  # 결과를 저장할 리스트\n",
        "\n",
        "for metric in metric_list:\n",
        "    for k in k_list:\n",
        "        # 모델 생성\n",
        "        knn = KNeighborsClassifier(n_neighbors=k, metric=metric)\n",
        "\n",
        "        # 모델 학습\n",
        "        knn.fit(x_train, y_train)\n",
        "\n",
        "        # 예측\n",
        "        y_pred = knn.predict(x_test)\n",
        "\n",
        "        # 정확도 계산\n",
        "        accuracy = accuracy_score(y_test, y_pred)\n",
        "\n",
        "        # 결과 출력\n",
        "        print(f\"metric={metric:<15} | k={k:<2} | accuracy={accuracy:.4f}\")\n",
        "\n",
        "        # 결과 저장\n",
        "        results.append((metric, k, accuracy))"
      ],
      "metadata": {
        "trusted": true,
        "execution": {
          "iopub.status.busy": "2025-10-18T07:29:28.509117Z",
          "iopub.execute_input": "2025-10-18T07:29:28.509787Z",
          "iopub.status.idle": "2025-10-18T07:29:33.439854Z",
          "shell.execute_reply.started": "2025-10-18T07:29:28.509744Z",
          "shell.execute_reply": "2025-10-18T07:29:33.438958Z"
        },
        "colab": {
          "base_uri": "https://localhost:8080/"
        },
        "id": "YDjobe3bUGKj",
        "outputId": "d258a192-cb5e-45d5-a50e-72abc8f71732"
      },
      "outputs": [
        {
          "output_type": "stream",
          "name": "stdout",
          "text": [
            "metric=manhattan       | k=1  | accuracy=0.6312\n",
            "metric=manhattan       | k=2  | accuracy=0.7188\n",
            "metric=manhattan       | k=3  | accuracy=0.6813\n",
            "metric=manhattan       | k=4  | accuracy=0.7250\n",
            "metric=manhattan       | k=5  | accuracy=0.6913\n",
            "metric=cityblock       | k=1  | accuracy=0.6312\n",
            "metric=cityblock       | k=2  | accuracy=0.7188\n",
            "metric=cityblock       | k=3  | accuracy=0.6813\n",
            "metric=cityblock       | k=4  | accuracy=0.7250\n",
            "metric=cityblock       | k=5  | accuracy=0.6913\n",
            "metric=cosine          | k=1  | accuracy=0.6188\n",
            "metric=cosine          | k=2  | accuracy=0.7013\n",
            "metric=cosine          | k=3  | accuracy=0.6675\n",
            "metric=cosine          | k=4  | accuracy=0.7025\n",
            "metric=cosine          | k=5  | accuracy=0.6875\n",
            "metric=euclidean       | k=1  | accuracy=0.6225\n",
            "metric=euclidean       | k=2  | accuracy=0.7050\n",
            "metric=euclidean       | k=3  | accuracy=0.6737\n",
            "metric=euclidean       | k=4  | accuracy=0.7125\n",
            "metric=euclidean       | k=5  | accuracy=0.6900\n",
            "metric=l1              | k=1  | accuracy=0.6312\n",
            "metric=l1              | k=2  | accuracy=0.7188\n",
            "metric=l1              | k=3  | accuracy=0.6813\n",
            "metric=l1              | k=4  | accuracy=0.7250\n",
            "metric=l1              | k=5  | accuracy=0.6913\n",
            "metric=l2              | k=1  | accuracy=0.6225\n",
            "metric=l2              | k=2  | accuracy=0.7050\n",
            "metric=l2              | k=3  | accuracy=0.6737\n",
            "metric=l2              | k=4  | accuracy=0.7125\n",
            "metric=l2              | k=5  | accuracy=0.6900\n",
            "metric=nan_euclidean   | k=1  | accuracy=0.6225\n",
            "metric=nan_euclidean   | k=2  | accuracy=0.7050\n",
            "metric=nan_euclidean   | k=3  | accuracy=0.6737\n",
            "metric=nan_euclidean   | k=4  | accuracy=0.7125\n",
            "metric=nan_euclidean   | k=5  | accuracy=0.6900\n"
          ]
        }
      ],
      "execution_count": 68
    },
    {
      "cell_type": "markdown",
      "source": [
        "## 여러 모델 실험"
      ],
      "metadata": {
        "id": "D-MW7tkFUGKj"
      }
    },
    {
      "cell_type": "markdown",
      "source": [
        "## Perceptron"
      ],
      "metadata": {
        "id": "18awsoNQUGKj"
      }
    },
    {
      "cell_type": "markdown",
      "source": [
        "# 7 : 2 : 1"
      ],
      "metadata": {
        "id": "68BkTD1SUGKj"
      }
    },
    {
      "cell_type": "code",
      "source": [
        "from sklearn.model_selection import train_test_split\n",
        "\n",
        "# 7 : 2 : 1\n",
        "x_train,x_test,y_train,y_test = train_test_split(x,y, train_size = 0.7, random_state = 42)\n",
        "x_valid,x_test,y_valid,y_test = train_test_split(x_test,y_test,train_size = 0.66, random_state=42)"
      ],
      "metadata": {
        "trusted": true,
        "id": "bzdp7K3wUGKj"
      },
      "outputs": [],
      "execution_count": 69
    },
    {
      "cell_type": "code",
      "source": [
        "from sklearn.linear_model import Perceptron\n",
        "from sklearn.metrics import confusion_matrix\n",
        "import matplotlib.pyplot as plt\n",
        "import seaborn as sns\n",
        "\n",
        "# 모델 생성\n",
        "pt = Perceptron()\n",
        "\n",
        "# 학습\n",
        "pt.fit(x_train, y_train)\n",
        "\n",
        "print(\"Perceptron 훈련 정확도: \",pt.score(x_train,y_train))\n",
        "print(\"Perceptron 검증 정확도:\",pt.score(x_valid,y_valid))\n",
        "print(\"Perceptron 테스트 정확도:\",pt.score(x_test,y_test))\n",
        "\n",
        "y_pred = pt.predict(x_test)\n",
        "\n",
        "cm = confusion_matrix(y_test, y_pred)\n",
        "\n",
        "sns.heatmap(cm, annot=True, cmap='Blues')\n",
        "plt.xlabel('Predicted')\n",
        "plt.ylabel('True')\n",
        "plt.show()"
      ],
      "metadata": {
        "trusted": true,
        "colab": {
          "base_uri": "https://localhost:8080/",
          "height": 503
        },
        "id": "2FaxnUfMUGKj",
        "outputId": "157d87f6-1352-4a2d-b33e-2fd954c10eca"
      },
      "outputs": [
        {
          "output_type": "stream",
          "name": "stdout",
          "text": [
            "Perceptron 훈련 정확도:  0.5669642857142857\n",
            "Perceptron 검증 정확도: 0.5587121212121212\n",
            "Perceptron 테스트 정확도: 0.5355392156862745\n"
          ]
        },
        {
          "output_type": "display_data",
          "data": {
            "text/plain": [
              "<Figure size 640x480 with 2 Axes>"
            ],
            "image/png": "[encoded data removed]"
          },
          "metadata": {}
        }
      ],
      "execution_count": 70
    },
    {
      "cell_type": "markdown",
      "source": [
        "# 8 : 1 : 1"
      ],
      "metadata": {
        "id": "VcYonFKJUGKj"
      }
    },
    {
      "cell_type": "code",
      "source": [
        "from sklearn.model_selection import train_test_split\n",
        "\n",
        "# 8 : 1 : 1\n",
        "x_train,x_test,y_train,y_test = train_test_split(x,y, train_size = 0.8, random_state = 42)\n",
        "x_valid,x_test,y_valid,y_test = train_test_split(x_test,y_test,train_size = 0.5, random_state=42)"
      ],
      "metadata": {
        "trusted": true,
        "execution": {
          "iopub.status.busy": "2025-10-18T07:29:33.440753Z",
          "iopub.execute_input": "2025-10-18T07:29:33.441048Z",
          "iopub.status.idle": "2025-10-18T07:29:33.452464Z",
          "shell.execute_reply.started": "2025-10-18T07:29:33.441027Z",
          "shell.execute_reply": "2025-10-18T07:29:33.451639Z"
        },
        "id": "LdAp5eC7UGKj"
      },
      "outputs": [],
      "execution_count": 71
    },
    {
      "cell_type": "code",
      "source": [
        "from sklearn.linear_model import Perceptron\n",
        "from sklearn.metrics import confusion_matrix\n",
        "import matplotlib.pyplot as plt\n",
        "import seaborn as sns\n",
        "\n",
        "# 모델 생성\n",
        "pt = Perceptron()\n",
        "\n",
        "# 학습\n",
        "pt.fit(x_train, y_train)\n",
        "\n",
        "print(\"Perceptron 훈련 정확도: \",pt.score(x_train,y_train))\n",
        "print(\"Perceptron 검증 정확도:\",pt.score(x_valid,y_valid))\n",
        "print(\"Perceptron 테스트 정확도:\",pt.score(x_test,y_test))\n",
        "\n",
        "y_pred = pt.predict(x_test)\n",
        "\n",
        "cm = confusion_matrix(y_test, y_pred)\n",
        "\n",
        "sns.heatmap(cm, annot=True, cmap='Blues')\n",
        "plt.xlabel('Predicted')\n",
        "plt.ylabel('True')\n",
        "plt.show()"
      ],
      "metadata": {
        "trusted": true,
        "execution": {
          "iopub.status.busy": "2025-10-18T07:29:33.453483Z",
          "iopub.execute_input": "2025-10-18T07:29:33.453797Z",
          "iopub.status.idle": "2025-10-18T07:29:33.64376Z",
          "shell.execute_reply.started": "2025-10-18T07:29:33.453778Z",
          "shell.execute_reply": "2025-10-18T07:29:33.642762Z"
        },
        "colab": {
          "base_uri": "https://localhost:8080/",
          "height": 503
        },
        "id": "Gb1SIDZrUGKj",
        "outputId": "a963eab8-c7b8-4a9f-d34e-bdcd2e214c44"
      },
      "outputs": [
        {
          "output_type": "stream",
          "name": "stdout",
          "text": [
            "Perceptron 훈련 정확도:  0.66921875\n",
            "Perceptron 검증 정확도: 0.68\n",
            "Perceptron 테스트 정확도: 0.68\n"
          ]
        },
        {
          "output_type": "display_data",
          "data": {
            "text/plain": [
              "<Figure size 640x480 with 2 Axes>"
            ],
            "image/png": "[encoded data removed]"
          },
          "metadata": {}
        }
      ],
      "execution_count": 72
    },
    {
      "cell_type": "markdown",
      "source": [
        "## SVM"
      ],
      "metadata": {
        "id": "gCPs-y2dUGKj"
      }
    },
    {
      "cell_type": "markdown",
      "source": [
        "# 7 : 2 : 1"
      ],
      "metadata": {
        "id": "EKf_qGMQUGKj"
      }
    },
    {
      "cell_type": "code",
      "source": [
        "from sklearn.model_selection import train_test_split\n",
        "\n",
        "# 7 : 2 : 1\n",
        "x_train,x_test,y_train,y_test = train_test_split(x,y, train_size = 0.7, random_state = 42)\n",
        "x_valid,x_test,y_valid,y_test = train_test_split(x_test,y_test,train_size = 0.66, random_state=42)"
      ],
      "metadata": {
        "trusted": true,
        "id": "92G99C8xUGKj"
      },
      "outputs": [],
      "execution_count": 85
    },
    {
      "cell_type": "code",
      "source": [
        "from sklearn.ensemble import RandomForestClassifier\n",
        "from sklearn.metrics import confusion_matrix\n",
        "import seaborn as sns\n",
        "import matplotlib.pyplot as plt\n",
        "\n",
        "\n",
        "rf = RandomForestClassifier(n_estimators=5, random_state=42)\n",
        "\n",
        "rf.fit(x_train, y_train)\n",
        "\n",
        "print(\"SVM 훈련 정확도:\",rf.score(x_train,y_train))\n",
        "print(\"SVM 검증 정확도:\",rf.score(x_valid,y_valid))\n",
        "print(\"SVM 테스트 정확도:\",rf.score(x_test,y_test))\n",
        "\n",
        "y_pred = rf.predict(x_test)\n",
        "\n",
        "cm = confusion_matrix(y_test, y_pred)\n",
        "\n",
        "sns.heatmap(cm, annot=True, cmap='Blues')\n",
        "plt.xlabel('Predicted')\n",
        "plt.ylabel('True')\n",
        "plt.show()"
      ],
      "metadata": {
        "trusted": true,
        "colab": {
          "base_uri": "https://localhost:8080/",
          "height": 503
        },
        "id": "kqpsaW92UGKj",
        "outputId": "764373bd-c946-4183-cc86-524736709ea3"
      },
      "outputs": [
        {
          "output_type": "stream",
          "name": "stdout",
          "text": [
            "SVM 훈련 정확도: 0.9583928571428572\n",
            "SVM 검증 정확도: 0.6647727272727273\n",
            "SVM 테스트 정확도: 0.6580882352941176\n"
          ]
        },
        {
          "output_type": "display_data",
          "data": {
            "text/plain": [
              "<Figure size 640x480 with 2 Axes>"
            ],
            "image/png": "[encoded data removed]"
          },
          "metadata": {}
        }
      ],
      "execution_count": 86
    },
    {
      "cell_type": "markdown",
      "source": [
        "# 8 : 1 : 1"
      ],
      "metadata": {
        "id": "Xjko5qdeUGKj"
      }
    },
    {
      "cell_type": "code",
      "source": [
        "from sklearn.model_selection import train_test_split\n",
        "\n",
        "# 8 : 1 : 1\n",
        "x_train,x_test,y_train,y_test = train_test_split(x,y, train_size = 0.8, random_state = 42)\n",
        "x_valid,x_test,y_valid,y_test = train_test_split(x_test,y_test,train_size = 0.5, random_state=42)"
      ],
      "metadata": {
        "trusted": true,
        "execution": {
          "iopub.status.busy": "2025-10-18T07:29:33.644705Z",
          "iopub.execute_input": "2025-10-18T07:29:33.644931Z",
          "iopub.status.idle": "2025-10-18T07:29:33.656788Z",
          "shell.execute_reply.started": "2025-10-18T07:29:33.644914Z",
          "shell.execute_reply": "2025-10-18T07:29:33.655384Z"
        },
        "id": "Q6B0b891UGKj"
      },
      "outputs": [],
      "execution_count": 87
    },
    {
      "cell_type": "code",
      "source": [
        "from sklearn.svm import SVC\n",
        "\n",
        "# 모델 생성 (기본 커널: RBF)\n",
        "svm = SVC()\n",
        "\n",
        "# 학습\n",
        "svm.fit(x_train, y_train)\n",
        "\n",
        "print(\"SVM 훈련 정확도:\",svm.score(x_train,y_train))\n",
        "print(\"SVM 검증 정확도:\",svm.score(x_valid,y_valid))\n",
        "print(\"SVM 테스트 정확도:\",svm.score(x_test,y_test))\n",
        "\n",
        "y_pred = svm.predict(x_test)\n",
        "\n",
        "cm = confusion_matrix(y_test, y_pred)\n",
        "\n",
        "sns.heatmap(cm, annot=True, cmap='Blues')\n",
        "plt.xlabel('Predicted')\n",
        "plt.ylabel('True')\n",
        "plt.show()"
      ],
      "metadata": {
        "trusted": true,
        "execution": {
          "iopub.status.busy": "2025-10-18T07:29:33.657945Z",
          "iopub.execute_input": "2025-10-18T07:29:33.658193Z",
          "iopub.status.idle": "2025-10-18T07:29:38.86426Z",
          "shell.execute_reply.started": "2025-10-18T07:29:33.658175Z",
          "shell.execute_reply": "2025-10-18T07:29:38.863108Z"
        },
        "colab": {
          "base_uri": "https://localhost:8080/",
          "height": 503
        },
        "id": "kx5fSULjUGKj",
        "outputId": "b5749ec3-961e-48a2-e0ca-0d3eae086027"
      },
      "outputs": [
        {
          "output_type": "stream",
          "name": "stdout",
          "text": [
            "SVM 훈련 정확도: 0.73890625\n",
            "SVM 검증 정확도: 0.75625\n",
            "SVM 테스트 정확도: 0.74375\n"
          ]
        },
        {
          "output_type": "display_data",
          "data": {
            "text/plain": [
              "<Figure size 640x480 with 2 Axes>"
            ],
            "image/png": "[encoded data removed]"
          },
          "metadata": {}
        }
      ],
      "execution_count": 88
    },
    {
      "cell_type": "markdown",
      "source": [
        "## RandomForest"
      ],
      "metadata": {
        "id": "sHU7d9YeUGKk"
      }
    },
    {
      "cell_type": "markdown",
      "source": [
        "# 7 : 2 : 1"
      ],
      "metadata": {
        "id": "5k6uB8Z8UGKk"
      }
    },
    {
      "cell_type": "code",
      "source": [
        "from sklearn.model_selection import train_test_split\n",
        "\n",
        "# 7 : 2 : 1\n",
        "x_train,x_test,y_train,y_test = train_test_split(x,y, train_size = 0.7, random_state = 42)\n",
        "x_valid,x_test,y_valid,y_test = train_test_split(x_test,y_test,train_size = 0.66, random_state=42)"
      ],
      "metadata": {
        "trusted": true,
        "execution": {
          "iopub.status.busy": "2025-10-18T07:29:38.865365Z",
          "iopub.execute_input": "2025-10-18T07:29:38.865699Z",
          "iopub.status.idle": "2025-10-18T07:29:38.878203Z",
          "shell.execute_reply.started": "2025-10-18T07:29:38.865671Z",
          "shell.execute_reply": "2025-10-18T07:29:38.877307Z"
        },
        "id": "6st2tG0vUGKk"
      },
      "outputs": [],
      "execution_count": 89
    },
    {
      "cell_type": "code",
      "source": [
        "from sklearn.ensemble import RandomForestClassifier\n",
        "from sklearn.metrics import confusion_matrix\n",
        "import seaborn as sns\n",
        "import matplotlib.pyplot as plt\n",
        "\n",
        "\n",
        "rf = RandomForestClassifier(n_estimators=5, random_state=42)\n",
        "\n",
        "rf.fit(x_train, y_train)\n",
        "\n",
        "print(\"RandomForest 훈련 정확도:\",rf.score(x_train,y_train))\n",
        "print(\"RandomForest 검증 정확도:\",rf.score(x_valid,y_valid))\n",
        "print(\"RandomForest 테스트 정확도:\",rf.score(x_test,y_test))\n",
        "\n",
        "y_pred = rf.predict(x_test)\n",
        "\n",
        "cm = confusion_matrix(y_test, y_pred)\n",
        "\n",
        "sns.heatmap(cm, annot=True, cmap='Blues')\n",
        "plt.xlabel('Predicted')\n",
        "plt.ylabel('True')\n",
        "plt.show()"
      ],
      "metadata": {
        "trusted": true,
        "execution": {
          "iopub.status.busy": "2025-10-18T07:29:38.879187Z",
          "iopub.execute_input": "2025-10-18T07:29:38.879458Z",
          "iopub.status.idle": "2025-10-18T07:29:39.11666Z",
          "shell.execute_reply.started": "2025-10-18T07:29:38.879439Z",
          "shell.execute_reply": "2025-10-18T07:29:39.115647Z"
        },
        "colab": {
          "base_uri": "https://localhost:8080/",
          "height": 503
        },
        "id": "9qSk-vB9UGKk",
        "outputId": "161c3e62-af5f-40ed-96f5-a3ad7e682076"
      },
      "outputs": [
        {
          "output_type": "stream",
          "name": "stdout",
          "text": [
            "RandomForest 훈련 정확도: 0.9583928571428572\n",
            "RandomForest 검증 정확도: 0.6647727272727273\n",
            "RandomForest 테스트 정확도: 0.6580882352941176\n"
          ]
        },
        {
          "output_type": "display_data",
          "data": {
            "text/plain": [
              "<Figure size 640x480 with 2 Axes>"
            ],
            "image/png": "[encoded data removed]"
          },
          "metadata": {}
        }
      ],
      "execution_count": 90
    },
    {
      "cell_type": "markdown",
      "source": [
        "# 8 : 1 : 1"
      ],
      "metadata": {
        "id": "lpmjvQH6UGKk"
      }
    },
    {
      "cell_type": "code",
      "source": [
        "from sklearn.model_selection import train_test_split\n",
        "\n",
        "# 8 : 1 : 1\n",
        "x_train,x_test,y_train,y_test = train_test_split(x,y, train_size = 0.8, random_state = 42)\n",
        "x_valid,x_test,y_valid,y_test = train_test_split(x_test,y_test,train_size = 0.5, random_state=42)"
      ],
      "metadata": {
        "trusted": true,
        "execution": {
          "iopub.status.busy": "2025-10-18T07:29:39.117736Z",
          "iopub.execute_input": "2025-10-18T07:29:39.117988Z",
          "iopub.status.idle": "2025-10-18T07:29:39.130705Z",
          "shell.execute_reply.started": "2025-10-18T07:29:39.117954Z",
          "shell.execute_reply": "2025-10-18T07:29:39.129738Z"
        },
        "id": "AbEP9uq3UGKk"
      },
      "outputs": [],
      "execution_count": 91
    },
    {
      "cell_type": "code",
      "source": [
        "from sklearn.ensemble import RandomForestClassifier\n",
        "from sklearn.metrics import confusion_matrix\n",
        "import seaborn as sns\n",
        "import matplotlib.pyplot as plt\n",
        "\n",
        "\n",
        "rf = RandomForestClassifier(n_estimators=5, random_state=42)\n",
        "\n",
        "rf.fit(x_train, y_train)\n",
        "\n",
        "print(\"RandomForest 훈련 정확도:\",rf.score(x_train,y_train))\n",
        "print(\"RandomForest 검증 정확도:\",rf.score(x_valid,y_valid))\n",
        "print(\"RandomForest 테스트 정확도:\",rf.score(x_test,y_test))\n",
        "\n",
        "y_pred = rf.predict(x_test)\n",
        "\n",
        "cm = confusion_matrix(y_test, y_pred)\n",
        "\n",
        "sns.heatmap(cm, annot=True, cmap='Blues')\n",
        "plt.xlabel('Predicted')\n",
        "plt.ylabel('True')\n",
        "plt.show()"
      ],
      "metadata": {
        "trusted": true,
        "execution": {
          "iopub.status.busy": "2025-10-18T07:29:39.131667Z",
          "iopub.execute_input": "2025-10-18T07:29:39.132343Z",
          "iopub.status.idle": "2025-10-18T07:29:39.366623Z",
          "shell.execute_reply.started": "2025-10-18T07:29:39.132312Z",
          "shell.execute_reply": "2025-10-18T07:29:39.365723Z"
        },
        "colab": {
          "base_uri": "https://localhost:8080/",
          "height": 505
        },
        "id": "In6uCWaNUGKk",
        "outputId": "5bff0cca-1caf-44fb-a1a9-6af1e3f168a3"
      },
      "outputs": [
        {
          "output_type": "stream",
          "name": "stdout",
          "text": [
            "RandomForest 훈련 정확도: 0.95828125\n",
            "RandomForest 검증 정확도: 0.6825\n",
            "RandomForest 테스트 정확도: 0.67375\n"
          ]
        },
        {
          "output_type": "display_data",
          "data": {
            "text/plain": [
              "<Figure size 640x480 with 2 Axes>"
            ],
            "image/png": "[encoded data removed]"
          },
          "metadata": {}
        }
      ],
      "execution_count": 92
    },
    {
      "cell_type": "markdown",
      "source": [
        "## Naive Bayes"
      ],
      "metadata": {
        "id": "tkcqEx2aUGKk"
      }
    },
    {
      "cell_type": "markdown",
      "source": [
        "# 7 : 2 : 1"
      ],
      "metadata": {
        "id": "3jwByJ_2UGKm"
      }
    },
    {
      "cell_type": "code",
      "source": [
        "from sklearn.model_selection import train_test_split\n",
        "\n",
        "# 7 : 2 : 1\n",
        "x_train,x_test,y_train,y_test = train_test_split(x,y, train_size = 0.7, random_state = 42)\n",
        "x_valid,x_test,y_valid,y_test = train_test_split(x_test,y_test,train_size = 0.66, random_state=42)"
      ],
      "metadata": {
        "trusted": true,
        "id": "_R3PnigYUGKm"
      },
      "outputs": [],
      "execution_count": 93
    },
    {
      "cell_type": "code",
      "source": [
        "from sklearn.naive_bayes import GaussianNB\n",
        "\n",
        "# 모델 생성\n",
        "nb = GaussianNB()\n",
        "\n",
        "# 학습\n",
        "nb.fit(x_train, y_train)\n",
        "\n",
        "# 예측\n",
        "y_pred = nb.predict(x_test)\n",
        "\n",
        "print(\"Naive Bayes 훈련 정확도:\",nb.score(x_train,y_train))\n",
        "print(\"Naive Bayes 검증 정확도:\",nb.score(x_valid,y_valid))\n",
        "print(\"Naive Bayes 테스트 정확도:\",nb.score(x_test,y_test))\n",
        "\n",
        "y_pred = nb.predict(x_test)\n",
        "\n",
        "cm = confusion_matrix(y_test, y_pred)\n",
        "\n",
        "sns.heatmap(cm, annot=True, cmap='Blues')\n",
        "plt.xlabel('Predicted')\n",
        "plt.ylabel('True')\n",
        "plt.show()"
      ],
      "metadata": {
        "trusted": true,
        "colab": {
          "base_uri": "https://localhost:8080/",
          "height": 503
        },
        "id": "iLwRuU2QUGKm",
        "outputId": "aef2eeeb-2ea8-44d1-a7eb-90b809321400"
      },
      "outputs": [
        {
          "output_type": "stream",
          "name": "stdout",
          "text": [
            "Naive Bayes 훈련 정확도: 0.7376785714285714\n",
            "Naive Bayes 검증 정확도: 0.7443181818181818\n",
            "Naive Bayes 테스트 정확도: 0.758578431372549\n"
          ]
        },
        {
          "output_type": "display_data",
          "data": {
            "text/plain": [
              "<Figure size 640x480 with 2 Axes>"
            ],
            "image/png": "[encoded data removed]"
          },
          "metadata": {}
        }
      ],
      "execution_count": 94
    },
    {
      "cell_type": "markdown",
      "source": [
        "# 8 : 1 : 1"
      ],
      "metadata": {
        "id": "7U8KlVzJUGKm"
      }
    },
    {
      "cell_type": "code",
      "source": [
        "from sklearn.model_selection import train_test_split\n",
        "\n",
        "# 8 : 1 : 1\n",
        "x_train,x_test,y_train,y_test = train_test_split(x,y, train_size = 0.8, random_state = 42)\n",
        "x_valid,x_test,y_valid,y_test = train_test_split(x_test,y_test,train_size = 0.5, random_state=42)"
      ],
      "metadata": {
        "trusted": true,
        "execution": {
          "iopub.status.busy": "2025-10-18T07:29:39.369943Z",
          "iopub.execute_input": "2025-10-18T07:29:39.370212Z",
          "iopub.status.idle": "2025-10-18T07:29:39.381859Z",
          "shell.execute_reply.started": "2025-10-18T07:29:39.370192Z",
          "shell.execute_reply": "2025-10-18T07:29:39.380876Z"
        },
        "id": "krlNU2YHUGKn"
      },
      "outputs": [],
      "execution_count": 95
    },
    {
      "cell_type": "code",
      "source": [
        "from sklearn.naive_bayes import GaussianNB\n",
        "\n",
        "# 모델 생성\n",
        "nb = GaussianNB()\n",
        "\n",
        "# 학습\n",
        "nb.fit(x_train, y_train)\n",
        "\n",
        "# 예측\n",
        "y_pred = nb.predict(x_test)\n",
        "\n",
        "print(\"Naive Bayes 훈련 정확도:\",nb.score(x_train,y_train))\n",
        "print(\"Naive Bayes 검증 정확도:\",nb.score(x_valid,y_valid))\n",
        "print(\"Naive Bayes 테스트 정확도:\",nb.score(x_test,y_test))\n",
        "\n",
        "y_pred = nb.predict(x_test)\n",
        "\n",
        "cm = confusion_matrix(y_test, y_pred)\n",
        "\n",
        "sns.heatmap(cm, annot=True, cmap='Blues')\n",
        "plt.xlabel('Predicted')\n",
        "plt.ylabel('True')\n",
        "plt.show()"
      ],
      "metadata": {
        "trusted": true,
        "execution": {
          "iopub.status.busy": "2025-10-18T07:29:39.382747Z",
          "iopub.execute_input": "2025-10-18T07:29:39.382966Z",
          "iopub.status.idle": "2025-10-18T07:29:39.575724Z",
          "shell.execute_reply.started": "2025-10-18T07:29:39.382949Z",
          "shell.execute_reply": "2025-10-18T07:29:39.574695Z"
        },
        "colab": {
          "base_uri": "https://localhost:8080/",
          "height": 503
        },
        "id": "6_xETdLWUGKn",
        "outputId": "a8e9d065-a652-4154-d29b-9f553b2e2ebd"
      },
      "outputs": [
        {
          "output_type": "stream",
          "name": "stdout",
          "text": [
            "Naive Bayes 훈련 정확도: 0.73890625\n",
            "Naive Bayes 검증 정확도: 0.75625\n",
            "Naive Bayes 테스트 정확도: 0.74375\n"
          ]
        },
        {
          "output_type": "display_data",
          "data": {
            "text/plain": [
              "<Figure size 640x480 with 2 Axes>"
            ],
            "image/png": "[encoded data removed]"
          },
          "metadata": {}
        }
      ],
      "execution_count": 96
    }
  ]
}